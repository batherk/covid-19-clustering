{
 "metadata": {
  "language_info": {
   "codemirror_mode": {
    "name": "ipython",
    "version": 3
   },
   "file_extension": ".py",
   "mimetype": "text/x-python",
   "name": "python",
   "nbconvert_exporter": "python",
   "pygments_lexer": "ipython3",
   "version": "3.8.3-final"
  },
  "orig_nbformat": 2,
  "kernelspec": {
   "name": "Python 3.8.3 64-bit ('anaconda3': virtualenv)",
   "display_name": "Python 3.8.3 64-bit ('anaconda3': virtualenv)",
   "metadata": {
    "interpreter": {
     "hash": "b50eb6cf9ae68b9370bdb856f8c9264fa753da672efa51df5e17eb25b626e356"
    }
   }
  }
 },
 "nbformat": 4,
 "nbformat_minor": 2,
 "cells": [
  {
   "source": [
    "# Load data"
   ],
   "cell_type": "markdown",
   "metadata": {}
  },
  {
   "source": [
    "import pandas as pd\n",
    "import numpy as np\n",
    "import seaborn as sns\n",
    "import matplotlib.pyplot as plt\n",
    "\n",
    "data = pd.read_csv('owid-covid-data.csv')\n"
   ],
   "cell_type": "code",
   "metadata": {},
   "execution_count": 4,
   "outputs": []
  },
  {
   "cell_type": "code",
   "execution_count": 8,
   "metadata": {},
   "outputs": [],
   "source": [
    "# Drop all rows where date is not equal to 01.10.2020\n",
    "data.drop(data[data['date'] != \"2020-10-01\"].index, inplace = True) "
   ]
  },
  {
   "source": [
    "### Rows to consider dropping: \n",
    "\n",
    "iso_code\n",
    "\n",
    "location\n",
    "\n",
    "date"
   ],
   "cell_type": "markdown",
   "metadata": {}
  },
  {
   "cell_type": "code",
   "execution_count": 23,
   "metadata": {},
   "outputs": [
    {
     "output_type": "execute_result",
     "data": {
      "text/plain": [
       "       iso_code      continent       location        date  total_cases  \\\n",
       "197         ABW  North America          Aruba  2020-10-01       3963.0   \n",
       "492         AFG           Asia    Afghanistan  2020-10-01      39268.0   \n",
       "705         AGO         Africa         Angola  2020-10-01       4972.0   \n",
       "913         AIA  North America       Anguilla  2020-10-01          3.0   \n",
       "1139        ALB         Europe        Albania  2020-10-01      13649.0   \n",
       "...         ...            ...            ...         ...          ...   \n",
       "50331       ZAF         Africa   South Africa  2020-10-01     674339.0   \n",
       "50547       ZMB         Africa         Zambia  2020-10-01      14759.0   \n",
       "50761       ZWE         Africa       Zimbabwe  2020-10-01       7838.0   \n",
       "51056  OWID_WRL            NaN          World  2020-10-01   34093635.0   \n",
       "51351       NaN            NaN  International  2020-10-01        696.0   \n",
       "\n",
       "       new_cases  new_cases_smoothed  total_deaths  new_deaths  \\\n",
       "197         29.0              34.571          27.0         1.0   \n",
       "492         14.0              14.000        1458.0         0.0   \n",
       "705         67.0             105.143         182.0         3.0   \n",
       "913          0.0               0.000           NaN         0.0   \n",
       "1139       131.0             123.143         387.0         3.0   \n",
       "...          ...                 ...           ...         ...   \n",
       "50331     1767.0            1307.286       16734.0        67.0   \n",
       "50547       44.0              45.143         332.0         0.0   \n",
       "50761        1.0              16.143         228.0         0.0   \n",
       "51056   316007.0          294294.286     1015223.0      6105.0   \n",
       "51351        NaN                 NaN           7.0         NaN   \n",
       "\n",
       "       new_deaths_smoothed  ...  gdp_per_capita  extreme_poverty  \\\n",
       "197                  0.286  ...       35973.781              NaN   \n",
       "492                  1.000  ...        1803.987              NaN   \n",
       "705                  3.857  ...        5819.495              NaN   \n",
       "913                  0.000  ...             NaN              NaN   \n",
       "1139                 2.429  ...       11803.431              1.1   \n",
       "...                    ...  ...             ...              ...   \n",
       "50331               75.429  ...       12294.876             18.9   \n",
       "50547                0.000  ...        3689.251             57.5   \n",
       "50761                0.143  ...        1899.775             21.4   \n",
       "51056             5264.286  ...       15469.207             10.0   \n",
       "51351                  NaN  ...             NaN              NaN   \n",
       "\n",
       "       cardiovasc_death_rate  diabetes_prevalence  female_smokers  \\\n",
       "197                      NaN                11.62             NaN   \n",
       "492                  597.029                 9.59             NaN   \n",
       "705                  276.045                 3.94             NaN   \n",
       "913                      NaN                  NaN             NaN   \n",
       "1139                 304.195                10.08           7.100   \n",
       "...                      ...                  ...             ...   \n",
       "50331                200.380                 5.52           8.100   \n",
       "50547                234.499                 3.94           3.100   \n",
       "50761                307.846                 1.82           1.600   \n",
       "51056                233.070                 8.51           6.434   \n",
       "51351                    NaN                  NaN             NaN   \n",
       "\n",
       "       male_smokers  handwashing_facilities  hospital_beds_per_thousand  \\\n",
       "197             NaN                     NaN                         NaN   \n",
       "492             NaN                  37.746                       0.500   \n",
       "705             NaN                  26.664                         NaN   \n",
       "913             NaN                     NaN                         NaN   \n",
       "1139         51.200                     NaN                       2.890   \n",
       "...             ...                     ...                         ...   \n",
       "50331        33.200                  43.993                       2.320   \n",
       "50547        24.700                  13.938                       2.000   \n",
       "50761        30.700                  36.791                       1.700   \n",
       "51056        34.635                  60.130                       2.705   \n",
       "51351           NaN                     NaN                         NaN   \n",
       "\n",
       "       life_expectancy  human_development_index  \n",
       "197              76.29                      NaN  \n",
       "492              64.83                    0.498  \n",
       "705              61.15                    0.581  \n",
       "913              81.88                      NaN  \n",
       "1139             78.57                    0.785  \n",
       "...                ...                      ...  \n",
       "50331            64.13                    0.699  \n",
       "50547            63.89                    0.588  \n",
       "50761            61.49                    0.535  \n",
       "51056            72.58                      NaN  \n",
       "51351              NaN                      NaN  \n",
       "\n",
       "[212 rows x 41 columns]"
      ],
      "text/html": "<div>\n<style scoped>\n    .dataframe tbody tr th:only-of-type {\n        vertical-align: middle;\n    }\n\n    .dataframe tbody tr th {\n        vertical-align: top;\n    }\n\n    .dataframe thead th {\n        text-align: right;\n    }\n</style>\n<table border=\"1\" class=\"dataframe\">\n  <thead>\n    <tr style=\"text-align: right;\">\n      <th></th>\n      <th>iso_code</th>\n      <th>continent</th>\n      <th>location</th>\n      <th>date</th>\n      <th>total_cases</th>\n      <th>new_cases</th>\n      <th>new_cases_smoothed</th>\n      <th>total_deaths</th>\n      <th>new_deaths</th>\n      <th>new_deaths_smoothed</th>\n      <th>...</th>\n      <th>gdp_per_capita</th>\n      <th>extreme_poverty</th>\n      <th>cardiovasc_death_rate</th>\n      <th>diabetes_prevalence</th>\n      <th>female_smokers</th>\n      <th>male_smokers</th>\n      <th>handwashing_facilities</th>\n      <th>hospital_beds_per_thousand</th>\n      <th>life_expectancy</th>\n      <th>human_development_index</th>\n    </tr>\n  </thead>\n  <tbody>\n    <tr>\n      <th>197</th>\n      <td>ABW</td>\n      <td>North America</td>\n      <td>Aruba</td>\n      <td>2020-10-01</td>\n      <td>3963.0</td>\n      <td>29.0</td>\n      <td>34.571</td>\n      <td>27.0</td>\n      <td>1.0</td>\n      <td>0.286</td>\n      <td>...</td>\n      <td>35973.781</td>\n      <td>NaN</td>\n      <td>NaN</td>\n      <td>11.62</td>\n      <td>NaN</td>\n      <td>NaN</td>\n      <td>NaN</td>\n      <td>NaN</td>\n      <td>76.29</td>\n      <td>NaN</td>\n    </tr>\n    <tr>\n      <th>492</th>\n      <td>AFG</td>\n      <td>Asia</td>\n      <td>Afghanistan</td>\n      <td>2020-10-01</td>\n      <td>39268.0</td>\n      <td>14.0</td>\n      <td>14.000</td>\n      <td>1458.0</td>\n      <td>0.0</td>\n      <td>1.000</td>\n      <td>...</td>\n      <td>1803.987</td>\n      <td>NaN</td>\n      <td>597.029</td>\n      <td>9.59</td>\n      <td>NaN</td>\n      <td>NaN</td>\n      <td>37.746</td>\n      <td>0.500</td>\n      <td>64.83</td>\n      <td>0.498</td>\n    </tr>\n    <tr>\n      <th>705</th>\n      <td>AGO</td>\n      <td>Africa</td>\n      <td>Angola</td>\n      <td>2020-10-01</td>\n      <td>4972.0</td>\n      <td>67.0</td>\n      <td>105.143</td>\n      <td>182.0</td>\n      <td>3.0</td>\n      <td>3.857</td>\n      <td>...</td>\n      <td>5819.495</td>\n      <td>NaN</td>\n      <td>276.045</td>\n      <td>3.94</td>\n      <td>NaN</td>\n      <td>NaN</td>\n      <td>26.664</td>\n      <td>NaN</td>\n      <td>61.15</td>\n      <td>0.581</td>\n    </tr>\n    <tr>\n      <th>913</th>\n      <td>AIA</td>\n      <td>North America</td>\n      <td>Anguilla</td>\n      <td>2020-10-01</td>\n      <td>3.0</td>\n      <td>0.0</td>\n      <td>0.000</td>\n      <td>NaN</td>\n      <td>0.0</td>\n      <td>0.000</td>\n      <td>...</td>\n      <td>NaN</td>\n      <td>NaN</td>\n      <td>NaN</td>\n      <td>NaN</td>\n      <td>NaN</td>\n      <td>NaN</td>\n      <td>NaN</td>\n      <td>NaN</td>\n      <td>81.88</td>\n      <td>NaN</td>\n    </tr>\n    <tr>\n      <th>1139</th>\n      <td>ALB</td>\n      <td>Europe</td>\n      <td>Albania</td>\n      <td>2020-10-01</td>\n      <td>13649.0</td>\n      <td>131.0</td>\n      <td>123.143</td>\n      <td>387.0</td>\n      <td>3.0</td>\n      <td>2.429</td>\n      <td>...</td>\n      <td>11803.431</td>\n      <td>1.1</td>\n      <td>304.195</td>\n      <td>10.08</td>\n      <td>7.100</td>\n      <td>51.200</td>\n      <td>NaN</td>\n      <td>2.890</td>\n      <td>78.57</td>\n      <td>0.785</td>\n    </tr>\n    <tr>\n      <th>...</th>\n      <td>...</td>\n      <td>...</td>\n      <td>...</td>\n      <td>...</td>\n      <td>...</td>\n      <td>...</td>\n      <td>...</td>\n      <td>...</td>\n      <td>...</td>\n      <td>...</td>\n      <td>...</td>\n      <td>...</td>\n      <td>...</td>\n      <td>...</td>\n      <td>...</td>\n      <td>...</td>\n      <td>...</td>\n      <td>...</td>\n      <td>...</td>\n      <td>...</td>\n      <td>...</td>\n    </tr>\n    <tr>\n      <th>50331</th>\n      <td>ZAF</td>\n      <td>Africa</td>\n      <td>South Africa</td>\n      <td>2020-10-01</td>\n      <td>674339.0</td>\n      <td>1767.0</td>\n      <td>1307.286</td>\n      <td>16734.0</td>\n      <td>67.0</td>\n      <td>75.429</td>\n      <td>...</td>\n      <td>12294.876</td>\n      <td>18.9</td>\n      <td>200.380</td>\n      <td>5.52</td>\n      <td>8.100</td>\n      <td>33.200</td>\n      <td>43.993</td>\n      <td>2.320</td>\n      <td>64.13</td>\n      <td>0.699</td>\n    </tr>\n    <tr>\n      <th>50547</th>\n      <td>ZMB</td>\n      <td>Africa</td>\n      <td>Zambia</td>\n      <td>2020-10-01</td>\n      <td>14759.0</td>\n      <td>44.0</td>\n      <td>45.143</td>\n      <td>332.0</td>\n      <td>0.0</td>\n      <td>0.000</td>\n      <td>...</td>\n      <td>3689.251</td>\n      <td>57.5</td>\n      <td>234.499</td>\n      <td>3.94</td>\n      <td>3.100</td>\n      <td>24.700</td>\n      <td>13.938</td>\n      <td>2.000</td>\n      <td>63.89</td>\n      <td>0.588</td>\n    </tr>\n    <tr>\n      <th>50761</th>\n      <td>ZWE</td>\n      <td>Africa</td>\n      <td>Zimbabwe</td>\n      <td>2020-10-01</td>\n      <td>7838.0</td>\n      <td>1.0</td>\n      <td>16.143</td>\n      <td>228.0</td>\n      <td>0.0</td>\n      <td>0.143</td>\n      <td>...</td>\n      <td>1899.775</td>\n      <td>21.4</td>\n      <td>307.846</td>\n      <td>1.82</td>\n      <td>1.600</td>\n      <td>30.700</td>\n      <td>36.791</td>\n      <td>1.700</td>\n      <td>61.49</td>\n      <td>0.535</td>\n    </tr>\n    <tr>\n      <th>51056</th>\n      <td>OWID_WRL</td>\n      <td>NaN</td>\n      <td>World</td>\n      <td>2020-10-01</td>\n      <td>34093635.0</td>\n      <td>316007.0</td>\n      <td>294294.286</td>\n      <td>1015223.0</td>\n      <td>6105.0</td>\n      <td>5264.286</td>\n      <td>...</td>\n      <td>15469.207</td>\n      <td>10.0</td>\n      <td>233.070</td>\n      <td>8.51</td>\n      <td>6.434</td>\n      <td>34.635</td>\n      <td>60.130</td>\n      <td>2.705</td>\n      <td>72.58</td>\n      <td>NaN</td>\n    </tr>\n    <tr>\n      <th>51351</th>\n      <td>NaN</td>\n      <td>NaN</td>\n      <td>International</td>\n      <td>2020-10-01</td>\n      <td>696.0</td>\n      <td>NaN</td>\n      <td>NaN</td>\n      <td>7.0</td>\n      <td>NaN</td>\n      <td>NaN</td>\n      <td>...</td>\n      <td>NaN</td>\n      <td>NaN</td>\n      <td>NaN</td>\n      <td>NaN</td>\n      <td>NaN</td>\n      <td>NaN</td>\n      <td>NaN</td>\n      <td>NaN</td>\n      <td>NaN</td>\n      <td>NaN</td>\n    </tr>\n  </tbody>\n</table>\n<p>212 rows × 41 columns</p>\n</div>"
     },
     "metadata": {},
     "execution_count": 23
    }
   ],
   "source": [
    "data"
   ]
  },
  {
   "cell_type": "code",
   "execution_count": null,
   "metadata": {},
   "outputs": [],
   "source": []
  }
 ]
}