{
 "metadata": {
  "language_info": {
   "codemirror_mode": {
    "name": "ipython",
    "version": 3
   },
   "file_extension": ".py",
   "mimetype": "text/x-python",
   "name": "python",
   "nbconvert_exporter": "python",
   "pygments_lexer": "ipython3",
   "version": "3.8.0-final"
  },
  "orig_nbformat": 2,
  "kernelspec": {
   "name": "Python 3.8.0 64-bit",
   "display_name": "Python 3.8.0 64-bit",
   "metadata": {
    "interpreter": {
     "hash": "767d51c1340bd893661ea55ea3124f6de3c7a262a8b4abca0554b478b1e2ff90"
    }
   }
  }
 },
 "nbformat": 4,
 "nbformat_minor": 2,
 "cells": [
  {
   "source": [
    "# Exploratory data analysis (EDA)"
   ],
   "cell_type": "markdown",
   "metadata": {}
  },
  {
   "source": [
    "import pandas as pd\n",
    "import numpy as np\n",
    "import seaborn as sns\n",
    "import matplotlib.pyplot as plt\n",
    "\n",
    "data = pd.read_csv('../Data/Raw/owid-covid-data.csv')\n"
   ],
   "cell_type": "code",
   "metadata": {},
   "execution_count": 2,
   "outputs": [
    {
     "output_type": "error",
     "ename": "ModuleNotFoundError",
     "evalue": "No module named 'seaborn'",
     "traceback": [
      "\u001b[0;31m---------------------------------------------------------------------------\u001b[0m",
      "\u001b[0;31mModuleNotFoundError\u001b[0m                       Traceback (most recent call last)",
      "\u001b[0;32m<ipython-input-2-9c06f04cfc32>\u001b[0m in \u001b[0;36m<module>\u001b[0;34m\u001b[0m\n\u001b[1;32m      1\u001b[0m \u001b[0;32mimport\u001b[0m \u001b[0mpandas\u001b[0m \u001b[0;32mas\u001b[0m \u001b[0mpd\u001b[0m\u001b[0;34m\u001b[0m\u001b[0;34m\u001b[0m\u001b[0m\n\u001b[1;32m      2\u001b[0m \u001b[0;32mimport\u001b[0m \u001b[0mnumpy\u001b[0m \u001b[0;32mas\u001b[0m \u001b[0mnp\u001b[0m\u001b[0;34m\u001b[0m\u001b[0;34m\u001b[0m\u001b[0m\n\u001b[0;32m----> 3\u001b[0;31m \u001b[0;32mimport\u001b[0m \u001b[0mseaborn\u001b[0m \u001b[0;32mas\u001b[0m \u001b[0msns\u001b[0m\u001b[0;34m\u001b[0m\u001b[0;34m\u001b[0m\u001b[0m\n\u001b[0m\u001b[1;32m      4\u001b[0m \u001b[0;32mimport\u001b[0m \u001b[0mmatplotlib\u001b[0m\u001b[0;34m.\u001b[0m\u001b[0mpyplot\u001b[0m \u001b[0;32mas\u001b[0m \u001b[0mplt\u001b[0m\u001b[0;34m\u001b[0m\u001b[0;34m\u001b[0m\u001b[0m\n\u001b[1;32m      5\u001b[0m \u001b[0;34m\u001b[0m\u001b[0m\n",
      "\u001b[0;31mModuleNotFoundError\u001b[0m: No module named 'seaborn'"
     ]
    }
   ]
  },
  {
   "cell_type": "code",
   "execution_count": 101,
   "metadata": {},
   "outputs": [],
   "source": [
    "# Drop all rows where date is not equal to 01.10.2020\n",
    "data.drop(data[data['date'] != \"2020-10-01\"].index, inplace = True) "
   ]
  },
  {
   "source": [
    "### Columns to consider dropping: \n",
    "\n",
    "iso_code\n",
    "\n",
    "date\n",
    "\n",
    "new_cases\n",
    "\n",
    "new_cases_smoothed\n",
    "\n",
    "### Rows to consider dropping: \n",
    "\n",
    "World\n",
    "\n",
    "International"
   ],
   "cell_type": "markdown",
   "metadata": {}
  },
  {
   "cell_type": "code",
   "execution_count": 102,
   "metadata": {},
   "outputs": [],
   "source": [
    "# Drop columns\n",
    "data.drop(['iso_code', 'date', 'new_cases', 'new_cases_smoothed', 'new_deaths', 'new_deaths_smoothed','new_cases_per_million', 'new_cases_smoothed_per_million','new_deaths_per_million', 'new_deaths_smoothed_per_million', 'new_tests', 'new_tests_per_thousand', 'new_tests_smoothed', 'new_tests_smoothed_per_thousand', 'location', 'continent'], axis=1, inplace=True)"
   ]
  },
  {
   "cell_type": "code",
   "execution_count": 103,
   "metadata": {},
   "outputs": [],
   "source": [
    "# Drop rows\n",
    "#data.drop(data[data['location'] == \"World\"].index, inplace = True) \n",
    "#data.drop(data[data['location'] == \"International\"].index, inplace = True) "
   ]
  },
  {
   "source": [
    "Left with one categorical feature\n",
    "\n",
    "tests_units --> This feature has some strange values that is not that intuitive. E.g what is the difference between \"people tested\" and \"tests performed\"? Will however keep this feature for now, despite a high number of NaN's."
   ],
   "cell_type": "markdown",
   "metadata": {}
  },
  {
   "cell_type": "code",
   "execution_count": 104,
   "metadata": {},
   "outputs": [
    {
     "output_type": "execute_result",
     "data": {
      "text/plain": [
       "tests performed                  56\n",
       "samples tested                   22\n",
       "people tested                    17\n",
       "units unclear                     2\n",
       "people tested (incl. non-PCR)     2\n",
       "Name: tests_units, dtype: int64"
      ]
     },
     "metadata": {},
     "execution_count": 104
    }
   ],
   "source": [
    "data.tests_units.value_counts()"
   ]
  },
  {
   "cell_type": "code",
   "execution_count": 105,
   "metadata": {},
   "outputs": [],
   "source": [
    "# One hot encoding to convert from categorical to numerical data.\n",
    "data = pd.get_dummies(data)"
   ]
  },
  {
   "cell_type": "code",
   "execution_count": 106,
   "metadata": {},
   "outputs": [
    {
     "output_type": "execute_result",
     "data": {
      "text/plain": [
       "(212, 29)"
      ]
     },
     "metadata": {},
     "execution_count": 106
    }
   ],
   "source": [
    "data.shape"
   ]
  },
  {
   "source": [
    "### Impute our data to remove any NaN"
   ],
   "cell_type": "markdown",
   "metadata": {}
  },
  {
   "cell_type": "code",
   "execution_count": 107,
   "metadata": {},
   "outputs": [
    {
     "output_type": "execute_result",
     "data": {
      "text/plain": [
       "IterativeImputer(random_state=0)"
      ]
     },
     "metadata": {},
     "execution_count": 107
    }
   ],
   "source": [
    "from sklearn.experimental import enable_iterative_imputer\n",
    "from sklearn.impute import IterativeImputer\n",
    "\n",
    "imp_mean = IterativeImputer(random_state=0)\n",
    "imp_mean.fit(data)"
   ]
  },
  {
   "cell_type": "code",
   "execution_count": 108,
   "metadata": {},
   "outputs": [],
   "source": [
    "imputed_df = imp_mean.transform(data)\n",
    "data = pd.DataFrame(imputed_df, columns=data.columns)"
   ]
  },
  {
   "source": [
    "### Scale data"
   ],
   "cell_type": "markdown",
   "metadata": {}
  },
  {
   "cell_type": "code",
   "execution_count": 118,
   "metadata": {},
   "outputs": [],
   "source": [
    "from sklearn import preprocessing\n",
    "\n",
    "\n",
    "x = data.values #returns a numpy array\n",
    "min_max_scaler = preprocessing.MinMaxScaler()\n",
    "x_scaled = min_max_scaler.fit_transform(x)\n",
    "data = pd.DataFrame(x_scaled)"
   ]
  },
  {
   "cell_type": "code",
   "execution_count": 119,
   "metadata": {},
   "outputs": [
    {
     "output_type": "execute_result",
     "data": {
      "text/plain": [
       "               0           1           2           3           4           5   \\\n",
       "count  212.000000  212.000000  212.000000  212.000000  212.000000  212.000000   \n",
       "mean     0.009465    0.009477    0.128071    0.108196    0.074435    0.373098   \n",
       "std      0.071761    0.071127    0.171463    0.158270    0.069096    0.086077   \n",
       "min      0.000000    0.000000    0.000000    0.000000    0.000000    0.000000   \n",
       "25%      0.000046    0.000052    0.013483    0.012303    0.064815    0.322735   \n",
       "50%      0.000290    0.000177    0.064645    0.047871    0.065570    0.351537   \n",
       "75%      0.002205    0.000970    0.173393    0.144090    0.066673    0.396349   \n",
       "max      1.000000    1.000000    1.000000    1.000000    1.000000    1.000000   \n",
       "\n",
       "               6           7           8           9   ...          19  \\\n",
       "count  212.000000  212.000000  212.000000  212.000000  ...  212.000000   \n",
       "mean     0.260036    0.081177    0.272084    0.009412  ...    0.354779   \n",
       "std      0.072126    0.081146    0.117757    0.070737  ...    0.157108   \n",
       "min      0.000000    0.000000    0.000000    0.000000  ...    0.000000   \n",
       "25%      0.236892    0.045201    0.208048    0.000143  ...    0.273793   \n",
       "50%      0.260475    0.073058    0.262340    0.000886  ...    0.355345   \n",
       "75%      0.262076    0.097678    0.344445    0.003389  ...    0.412997   \n",
       "max      1.000000    1.000000    1.000000    1.000000  ...    1.000000   \n",
       "\n",
       "               20          21          22          23          24          25  \\\n",
       "count  212.000000  212.000000  212.000000  212.000000  212.000000  212.000000   \n",
       "mean     0.449722    0.208602    0.605041    0.606740    0.080189    0.009434   \n",
       "std      0.148046    0.164420    0.223199    0.247722    0.272228    0.096898   \n",
       "min      0.000000    0.000000    0.000000    0.000000    0.000000    0.000000   \n",
       "25%      0.354443    0.094526    0.486630    0.420513    0.000000    0.000000   \n",
       "50%      0.469798    0.182847    0.649686    0.659384    0.000000    0.000000   \n",
       "75%      0.539189    0.267441    0.766134    0.783873    0.000000    0.000000   \n",
       "max      1.000000    1.000000    1.000000    1.000000    1.000000    1.000000   \n",
       "\n",
       "               26          27          28  \n",
       "count  212.000000  212.000000  212.000000  \n",
       "mean     0.103774    0.264151    0.009434  \n",
       "std      0.305688    0.441924    0.096898  \n",
       "min      0.000000    0.000000    0.000000  \n",
       "25%      0.000000    0.000000    0.000000  \n",
       "50%      0.000000    0.000000    0.000000  \n",
       "75%      0.000000    1.000000    0.000000  \n",
       "max      1.000000    1.000000    1.000000  \n",
       "\n",
       "[8 rows x 29 columns]"
      ],
      "text/html": "<div>\n<style scoped>\n    .dataframe tbody tr th:only-of-type {\n        vertical-align: middle;\n    }\n\n    .dataframe tbody tr th {\n        vertical-align: top;\n    }\n\n    .dataframe thead th {\n        text-align: right;\n    }\n</style>\n<table border=\"1\" class=\"dataframe\">\n  <thead>\n    <tr style=\"text-align: right;\">\n      <th></th>\n      <th>0</th>\n      <th>1</th>\n      <th>2</th>\n      <th>3</th>\n      <th>4</th>\n      <th>5</th>\n      <th>6</th>\n      <th>7</th>\n      <th>8</th>\n      <th>9</th>\n      <th>...</th>\n      <th>19</th>\n      <th>20</th>\n      <th>21</th>\n      <th>22</th>\n      <th>23</th>\n      <th>24</th>\n      <th>25</th>\n      <th>26</th>\n      <th>27</th>\n      <th>28</th>\n    </tr>\n  </thead>\n  <tbody>\n    <tr>\n      <th>count</th>\n      <td>212.000000</td>\n      <td>212.000000</td>\n      <td>212.000000</td>\n      <td>212.000000</td>\n      <td>212.000000</td>\n      <td>212.000000</td>\n      <td>212.000000</td>\n      <td>212.000000</td>\n      <td>212.000000</td>\n      <td>212.000000</td>\n      <td>...</td>\n      <td>212.000000</td>\n      <td>212.000000</td>\n      <td>212.000000</td>\n      <td>212.000000</td>\n      <td>212.000000</td>\n      <td>212.000000</td>\n      <td>212.000000</td>\n      <td>212.000000</td>\n      <td>212.000000</td>\n      <td>212.000000</td>\n    </tr>\n    <tr>\n      <th>mean</th>\n      <td>0.009465</td>\n      <td>0.009477</td>\n      <td>0.128071</td>\n      <td>0.108196</td>\n      <td>0.074435</td>\n      <td>0.373098</td>\n      <td>0.260036</td>\n      <td>0.081177</td>\n      <td>0.272084</td>\n      <td>0.009412</td>\n      <td>...</td>\n      <td>0.354779</td>\n      <td>0.449722</td>\n      <td>0.208602</td>\n      <td>0.605041</td>\n      <td>0.606740</td>\n      <td>0.080189</td>\n      <td>0.009434</td>\n      <td>0.103774</td>\n      <td>0.264151</td>\n      <td>0.009434</td>\n    </tr>\n    <tr>\n      <th>std</th>\n      <td>0.071761</td>\n      <td>0.071127</td>\n      <td>0.171463</td>\n      <td>0.158270</td>\n      <td>0.069096</td>\n      <td>0.086077</td>\n      <td>0.072126</td>\n      <td>0.081146</td>\n      <td>0.117757</td>\n      <td>0.070737</td>\n      <td>...</td>\n      <td>0.157108</td>\n      <td>0.148046</td>\n      <td>0.164420</td>\n      <td>0.223199</td>\n      <td>0.247722</td>\n      <td>0.272228</td>\n      <td>0.096898</td>\n      <td>0.305688</td>\n      <td>0.441924</td>\n      <td>0.096898</td>\n    </tr>\n    <tr>\n      <th>min</th>\n      <td>0.000000</td>\n      <td>0.000000</td>\n      <td>0.000000</td>\n      <td>0.000000</td>\n      <td>0.000000</td>\n      <td>0.000000</td>\n      <td>0.000000</td>\n      <td>0.000000</td>\n      <td>0.000000</td>\n      <td>0.000000</td>\n      <td>...</td>\n      <td>0.000000</td>\n      <td>0.000000</td>\n      <td>0.000000</td>\n      <td>0.000000</td>\n      <td>0.000000</td>\n      <td>0.000000</td>\n      <td>0.000000</td>\n      <td>0.000000</td>\n      <td>0.000000</td>\n      <td>0.000000</td>\n    </tr>\n    <tr>\n      <th>25%</th>\n      <td>0.000046</td>\n      <td>0.000052</td>\n      <td>0.013483</td>\n      <td>0.012303</td>\n      <td>0.064815</td>\n      <td>0.322735</td>\n      <td>0.236892</td>\n      <td>0.045201</td>\n      <td>0.208048</td>\n      <td>0.000143</td>\n      <td>...</td>\n      <td>0.273793</td>\n      <td>0.354443</td>\n      <td>0.094526</td>\n      <td>0.486630</td>\n      <td>0.420513</td>\n      <td>0.000000</td>\n      <td>0.000000</td>\n      <td>0.000000</td>\n      <td>0.000000</td>\n      <td>0.000000</td>\n    </tr>\n    <tr>\n      <th>50%</th>\n      <td>0.000290</td>\n      <td>0.000177</td>\n      <td>0.064645</td>\n      <td>0.047871</td>\n      <td>0.065570</td>\n      <td>0.351537</td>\n      <td>0.260475</td>\n      <td>0.073058</td>\n      <td>0.262340</td>\n      <td>0.000886</td>\n      <td>...</td>\n      <td>0.355345</td>\n      <td>0.469798</td>\n      <td>0.182847</td>\n      <td>0.649686</td>\n      <td>0.659384</td>\n      <td>0.000000</td>\n      <td>0.000000</td>\n      <td>0.000000</td>\n      <td>0.000000</td>\n      <td>0.000000</td>\n    </tr>\n    <tr>\n      <th>75%</th>\n      <td>0.002205</td>\n      <td>0.000970</td>\n      <td>0.173393</td>\n      <td>0.144090</td>\n      <td>0.066673</td>\n      <td>0.396349</td>\n      <td>0.262076</td>\n      <td>0.097678</td>\n      <td>0.344445</td>\n      <td>0.003389</td>\n      <td>...</td>\n      <td>0.412997</td>\n      <td>0.539189</td>\n      <td>0.267441</td>\n      <td>0.766134</td>\n      <td>0.783873</td>\n      <td>0.000000</td>\n      <td>0.000000</td>\n      <td>0.000000</td>\n      <td>1.000000</td>\n      <td>0.000000</td>\n    </tr>\n    <tr>\n      <th>max</th>\n      <td>1.000000</td>\n      <td>1.000000</td>\n      <td>1.000000</td>\n      <td>1.000000</td>\n      <td>1.000000</td>\n      <td>1.000000</td>\n      <td>1.000000</td>\n      <td>1.000000</td>\n      <td>1.000000</td>\n      <td>1.000000</td>\n      <td>...</td>\n      <td>1.000000</td>\n      <td>1.000000</td>\n      <td>1.000000</td>\n      <td>1.000000</td>\n      <td>1.000000</td>\n      <td>1.000000</td>\n      <td>1.000000</td>\n      <td>1.000000</td>\n      <td>1.000000</td>\n      <td>1.000000</td>\n    </tr>\n  </tbody>\n</table>\n<p>8 rows × 29 columns</p>\n</div>"
     },
     "metadata": {},
     "execution_count": 119
    }
   ],
   "source": [
    "data.describe()"
   ]
  },
  {
   "cell_type": "code",
   "execution_count": null,
   "metadata": {},
   "outputs": [],
   "source": []
  }
 ]
}