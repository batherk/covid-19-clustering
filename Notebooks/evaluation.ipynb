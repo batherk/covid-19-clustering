{
 "metadata": {
  "language_info": {
   "codemirror_mode": {
    "name": "ipython",
    "version": 3
   },
   "file_extension": ".py",
   "mimetype": "text/x-python",
   "name": "python",
   "nbconvert_exporter": "python",
   "pygments_lexer": "ipython3",
   "version": "3.8.5-final"
  },
  "orig_nbformat": 2,
  "kernelspec": {
   "name": "Python 3.8.5 32-bit ('venv')",
   "display_name": "Python 3.8.5 32-bit ('venv')",
   "metadata": {
    "interpreter": {
     "hash": "76c6f3e590422a251b8bd516fed1182e10179fda937b7168f3116386ccf08306"
    }
   }
  }
 },
 "nbformat": 4,
 "nbformat_minor": 2,
 "cells": [
  {
   "cell_type": "code",
   "execution_count": 54,
   "metadata": {},
   "outputs": [],
   "source": [
    "import pandas as pd\n",
    "from sklearn.model_selection import train_test_split\n",
    "\n",
    "data = pd.read_csv(\"../Data/Processed/processed.csv\")"
   ]
  },
  {
   "cell_type": "code",
   "execution_count": 58,
   "metadata": {},
   "outputs": [],
   "source": [
    "total_cases_per_million_row = '2'\n",
    "total_deaths_per_million_row = '3'\n",
    "\n",
    "input = data.drop([total_cases_per_million_row, total_deaths_per_million_row], axis=1)\n",
    "target = data[[total_cases_per_million_row,total_deaths_per_million_row]]"
   ]
  },
  {
   "cell_type": "code",
   "execution_count": 59,
   "metadata": {},
   "outputs": [],
   "source": [
    "from sklearn.cluster import KMeans\n",
    "\n",
    "input_kmeans = KMeans(n_clusters=10, random_state=0).fit(input)\n",
    "target_kmeans = KMeans(n_clusters=10, random_state=0).fit(target)\n"
   ]
  },
  {
   "cell_type": "code",
   "execution_count": 61,
   "metadata": {},
   "outputs": [
    {
     "output_type": "execute_result",
     "data": {
      "text/plain": [
       "(0.123659585455732, 0.08820240949708047, 0.10296394496837431)"
      ]
     },
     "metadata": {},
     "execution_count": 61
    }
   ],
   "source": [
    "from sklearn.metrics import homogeneity_completeness_v_measure\n",
    "\n",
    "homogenity, completeness, v_measure = homogeneity_completeness_v_measure(target_kmeans.labels_, input_kmeans.labels_)\n",
    "homogenity, completeness, v_measure"
   ]
  },
  {
   "cell_type": "code",
   "execution_count": null,
   "metadata": {},
   "outputs": [],
   "source": []
  }
 ]
}