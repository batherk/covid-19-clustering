{
 "metadata": {
  "language_info": {
   "codemirror_mode": {
    "name": "ipython",
    "version": 3
   },
   "file_extension": ".py",
   "mimetype": "text/x-python",
   "name": "python",
   "nbconvert_exporter": "python",
   "pygments_lexer": "ipython3",
   "version": "3.8.5-final"
  },
  "orig_nbformat": 2,
  "kernelspec": {
   "name": "python3",
   "display_name": "Python 3"
  }
 },
 "nbformat": 4,
 "nbformat_minor": 2,
 "cells": [
  {
   "source": [
    "## Hyperparameter tuning of Birch"
   ],
   "cell_type": "markdown",
   "metadata": {}
  },
  {
   "cell_type": "code",
   "execution_count": 17,
   "metadata": {},
   "outputs": [],
   "source": [
    "import pandas as pd\n",
    "\n",
    "data = pd.read_csv('../data/processed/processed.csv')"
   ]
  },
  {
   "cell_type": "code",
   "execution_count": 18,
   "metadata": {
    "tags": []
   },
   "outputs": [
    {
     "output_type": "stream",
     "name": "stdout",
     "text": [
      "----------------#####-----#####---------------------\n[None, None, {'silhouette_score_average': 0.47045655202957437, 'threshold': 0.6, 'branching_factor': 10}, {'silhouette_score_average': 0.3684619962399025, 'threshold': 0.6, 'branching_factor': 10}, {'silhouette_score_average': 0.29786783569359865, 'threshold': 0.8, 'branching_factor': 10}, {'silhouette_score_average': 0.29786783569359865, 'threshold': 0.8, 'branching_factor': 10}, {'silhouette_score_average': 0.29786783569359865, 'threshold': 0.8, 'branching_factor': 10}, {'silhouette_score_average': 0.29786783569359865, 'threshold': 0.8, 'branching_factor': 10}, {'silhouette_score_average': 0.29786783569359865, 'threshold': 0.8, 'branching_factor': 10}, {'silhouette_score_average': 0.29786783569359865, 'threshold': 0.8, 'branching_factor': 10}, {'silhouette_score_average': 0.29786783569359865, 'threshold': 0.8, 'branching_factor': 10}, {'silhouette_score_average': 0.29786783569359865, 'threshold': 0.8, 'branching_factor': 10}, {'silhouette_score_average': 0.29786783569359865, 'threshold': 0.8, 'branching_factor': 10}, {'silhouette_score_average': 0.29786783569359865, 'threshold': 0.8, 'branching_factor': 10}, {'silhouette_score_average': 0.29786783569359865, 'threshold': 0.8, 'branching_factor': 10}, {'silhouette_score_average': 0.29786783569359865, 'threshold': 0.8, 'branching_factor': 10}, {'silhouette_score_average': 0.29786783569359865, 'threshold': 0.8, 'branching_factor': 10}, {'silhouette_score_average': 0.29786783569359865, 'threshold': 0.8, 'branching_factor': 10}, {'silhouette_score_average': 0.29786783569359865, 'threshold': 0.8, 'branching_factor': 10}, {'silhouette_score_average': 0.29786783569359865, 'threshold': 0.8, 'branching_factor': 10}, {'silhouette_score_average': 0.29786783569359865, 'threshold': 0.8, 'branching_factor': 10}]\nThe best score from tuning is: \nn_clusters: 2, threshold: 0.6, branching_factor: 10, silhouette coefficient: 0.4705\n"
     ]
    }
   ],
   "source": [
    "import numpy as np\n",
    "from sklearn.cluster import Birch\n",
    "from sklearn.metrics import silhouette_score\n",
    "\n",
    "threshold_range = np.arange(0.1, 0.9, 0.1)\n",
    "branching_factor_range = np.arange(10, 100, 10)\n",
    "n_clusters_range = np.arange(2, 21, 1)\n",
    "\n",
    "best_score = {\n",
    "    'silhouette_coefficient': 0,\n",
    "    'threshold': 0,\n",
    "    'branching_factor': 0,\n",
    "    'n_clusters': 0\n",
    "}\n",
    "\n",
    "for n_clusters in n_clusters_range:\n",
    "    for threshold in threshold_range:\n",
    "        for branching_factor in branching_factor_range:\n",
    "\n",
    "            birch = Birch(threshold=threshold, branching_factor=branching_factor, n_clusters=n_clusters)\n",
    "            prediction = birch.fit_predict(X=data)\n",
    "\n",
    "            silhouette_score_average = silhouette_score(data, prediction)\n",
    "            per_cluster.append({\n",
    "                'silhouette_score_average': silhouette_score_average,\n",
    "                'threshold': threshold, \n",
    "                'branching_factor': branching_factor\n",
    "            })\n",
    "\n",
    "            if silhouette_score_average > best_score['silhouette_coefficient']:\n",
    "                best_score['silhouette_coefficient'] = silhouette_score_average\n",
    "                best_score['threshold'] = threshold\n",
    "                best_score['branching_factor'] = branching_factor\n",
    "                best_score['n_clusters'] = n_clusters\n",
    "\n",
    "            print((f\"n_clusters: {n_clusters:>2}, threshold: {threshold:.1f}, branching_factor: {branching_factor}, silhouette score average: {silhouette_score_average:.4f}\"))\n",
    "\n",
    "print(\"----------------#####-----#####---------------------\")\n",
    "\n",
    "print(best_per_cluster)\n",
    "\n",
    "print(\"The best score from tuning is: \")\n",
    "print(f\"n_clusters: {best_score['n_clusters']}, threshold: {best_score['threshold']}, branching_factor: {best_score['branching_factor']}, silhouette coefficient: {best_score['silhouette_coefficient']:.4f}\")"
   ]
  }
 ]
}