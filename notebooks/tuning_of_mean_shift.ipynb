{
 "metadata": {
  "language_info": {
   "codemirror_mode": {
    "name": "ipython",
    "version": 3
   },
   "file_extension": ".py",
   "mimetype": "text/x-python",
   "name": "python",
   "nbconvert_exporter": "python",
   "pygments_lexer": "ipython3",
   "version": "3.8.5-final"
  },
  "orig_nbformat": 2,
  "kernelspec": {
   "name": "python3",
   "display_name": "Python 3"
  }
 },
 "nbformat": 4,
 "nbformat_minor": 2,
 "cells": [
  {
   "cell_type": "code",
   "execution_count": 1,
   "metadata": {},
   "outputs": [],
   "source": [
    "import itertools\n",
    "import math\n",
    "import pandas as pd\n",
    "import numpy as np\n",
    "import matplotlib.pyplot as plt\n",
    "\n",
    "from sklearn.metrics import silhouette_score, davies_bouldin_score, calinski_harabasz_score\n",
    "from sklearn.cluster import MeanShift"
   ]
  },
  {
   "cell_type": "code",
   "execution_count": 2,
   "metadata": {},
   "outputs": [],
   "source": [
    "data = pd.read_csv('../data/processed/processed.csv')"
   ]
  },
  {
   "cell_type": "code",
   "execution_count": 3,
   "metadata": {},
   "outputs": [],
   "source": [
    "data_rows = len(data)\n",
    "scores = []\n",
    "bandwidths = np.arange(0.40, 0.70, 0.01)\n",
    "\n",
    "\n",
    "for bandwidth in bandwidths: \n",
    "    ms = MeanShift(bandwidth=bandwidth)\n",
    "    prediction = ms.fit_predict(X=data)\n",
    "    n_clusters = len(np.unique(prediction))\n",
    "    \n",
    "    if n_clusters != 1 and n_clusters != data_rows:\n",
    "        sc = silhouette_score(data, prediction)\n",
    "        db = davies_bouldin_score(data, prediction)\n",
    "        ch = calinski_harabasz_score(data, prediction)\n",
    "        scores.append((bandwidth, sc, db, ch, prediction,n_clusters))"
   ]
  },
  {
   "cell_type": "code",
   "execution_count": 4,
   "metadata": {},
   "outputs": [],
   "source": [
    "tested_bandwidths, scs, dbs, chs, predictions, n_clusters = zip(*scores)\n",
    "placings_per_alt = {}\n",
    "\n",
    "for i in range(len(scores)):\n",
    "    placings_per_alt[tested_bandwidths[i]] = {\n",
    "        'bandwidth':tested_bandwidths[i],\n",
    "        'silhouette coefficient': scs[i],\n",
    "        'davies-bouldin index': dbs[i],\n",
    "        'calinski-harabasz index': chs[i],\n",
    "        'prediction': predictions[i],\n",
    "        'clusters': n_clusters[i]\n",
    "    }\n",
    "\n",
    "sorted_by_max_sc = sorted(scores, key=lambda score: score[1], reverse=True)\n",
    "sorted_by_min_db = sorted(scores, key=lambda score: score[2], reverse=False)\n",
    "sorted_by_max_ch = sorted(scores, key=lambda score: score[3], reverse=True)\n",
    "\n",
    "for index, score in enumerate(sorted_by_max_sc):\n",
    "    placings_per_alt[score[0]]['max_sc'] = index\n",
    "\n",
    "for index, score in enumerate(sorted_by_min_db):\n",
    "    placings_per_alt[score[0]]['min_db'] = index\n",
    "\n",
    "for index, score in enumerate(sorted_by_max_ch):\n",
    "    placings_per_alt[score[0]]['max_ch'] = index"
   ]
  },
  {
   "cell_type": "code",
   "execution_count": 5,
   "metadata": {
    "tags": []
   },
   "outputs": [],
   "source": [
    "def overall_placing(score):\n",
    "    alt = placings_per_alt[score[0]]\n",
    "    return (alt['max_sc'] + alt['min_db'] + alt['max_ch']+3) / 3\n",
    "\n",
    "sorted_scores_on_overall = sorted(scores, key=overall_placing, reverse=False)\n",
    "\n",
    "for index, score in enumerate(sorted_scores_on_overall):\n",
    "    placings_per_alt[score[0]]['overall'] = index\n",
    "\n",
    "\n",
    "models = sorted(placings_per_alt.values(), key=lambda alt: alt['overall'], reverse=False)\n",
    "models_in_tuples = [model.values() for model in models]\n"
   ]
  },
  {
   "cell_type": "code",
   "execution_count": 6,
   "metadata": {
    "tags": []
   },
   "outputs": [],
   "source": [
    "sorted_bandwidths, sorted_scs, sorted_dbs, sorted_chs, sorted_predictions, sorted_clusters, sorted_placing_sc, sorted_placing_db, sorted_placing_ch, sorted_overall = zip(*models_in_tuples)"
   ]
  },
  {
   "cell_type": "code",
   "execution_count": 7,
   "metadata": {},
   "outputs": [],
   "source": [
    "def points_in_clusters(distribution):\n",
    "    amount_of_points_in_cluster = {}\n",
    "    for cluster_id in distribution:\n",
    "        if cluster_id in amount_of_points_in_cluster:\n",
    "            amount_of_points_in_cluster[cluster_id] += 1\n",
    "        else:\n",
    "            amount_of_points_in_cluster[cluster_id] = 1\n",
    "    points_in_cluster_descending = sorted(list(amount_of_points_in_cluster.values()), reverse=True)\n",
    "    return tuple(points_in_cluster_descending)"
   ]
  },
  {
   "cell_type": "code",
   "execution_count": 8,
   "metadata": {},
   "outputs": [],
   "source": [
    "def print_info(i):\n",
    "    print(\n",
    "        f'{sorted_overall[i]:>2}. '\n",
    "        f'Bandwidth: {sorted_bandwidths[i]:.2f}. '\n",
    "        f'Scores: SC={sorted_scs[i]: 5.2f}, DB={sorted_dbs[i]: 5.2f}, CH={sorted_chs[i]: 7.2f}. '\n",
    "        f'Clusters: {sorted_clusters[i]:>3}. Distribution: {str(points_in_clusters(sorted_predictions[i]))[:20]:<20}'\n",
    "    )"
   ]
  },
  {
   "cell_type": "code",
   "execution_count": 9,
   "metadata": {},
   "outputs": [
    {
     "output_type": "stream",
     "name": "stdout",
     "text": [
      " 0. Bandwidth: 0.63. Scores: SC= 0.28, DB= 0.92, CH=  37.88. Clusters:   4. Distribution: (151, 54, 4, 1)     \n",
      " 1. Bandwidth: 0.64. Scores: SC= 0.28, DB= 0.92, CH=  37.88. Clusters:   4. Distribution: (151, 54, 4, 1)     \n",
      " 2. Bandwidth: 0.67. Scores: SC= 0.45, DB= 0.87, CH=   9.54. Clusters:   2. Distribution: (208, 2)            \n",
      " 3. Bandwidth: 0.68. Scores: SC= 0.45, DB= 0.87, CH=   9.54. Clusters:   2. Distribution: (208, 2)            \n",
      " 4. Bandwidth: 0.55. Scores: SC= 0.12, DB= 1.10, CH=  22.34. Clusters:  11. Distribution: (96, 82, 8, 8, 5, 3,\n",
      " 5. Bandwidth: 0.62. Scores: SC= 0.17, DB= 1.33, CH=  25.98. Clusters:   6. Distribution: (152, 35, 9, 9, 4, 1\n",
      " 6. Bandwidth: 0.58. Scores: SC= 0.12, DB= 1.10, CH=  22.95. Clusters:  10. Distribution: (109, 74, 9, 8, 2, 2\n",
      " 7. Bandwidth: 0.69. Scores: SC= 0.45, DB= 0.87, CH=   9.54. Clusters:   2. Distribution: (208, 2)            \n",
      " 8. Bandwidth: 0.56. Scores: SC= 0.14, DB= 1.14, CH=  23.61. Clusters:  10. Distribution: (97, 86, 8, 8, 3, 2,\n",
      " 9. Bandwidth: 0.60. Scores: SC= 0.17, DB= 1.44, CH=  25.68. Clusters:   7. Distribution: (143, 30, 22, 7, 4, \n",
      "10. Bandwidth: 0.61. Scores: SC= 0.17, DB= 1.33, CH=  25.43. Clusters:   6. Distribution: (153, 34, 9, 9, 4, 1\n",
      "11. Bandwidth: 0.54. Scores: SC= 0.11, DB= 1.07, CH=  19.55. Clusters:  13. Distribution: (98, 79, 8, 7, 5, 2,\n",
      "12. Bandwidth: 0.42. Scores: SC= 0.12, DB= 0.98, CH=  18.11. Clusters:  27. Distribution: (57, 52, 49, 7, 5, 4\n",
      "13. Bandwidth: 0.53. Scores: SC= 0.11, DB= 1.07, CH=  19.45. Clusters:  13. Distribution: (100, 77, 8, 7, 5, 2\n",
      "14. Bandwidth: 0.41. Scores: SC= 0.10, DB= 0.90, CH=  16.81. Clusters:  30. Distribution: (55, 53, 48, 7, 5, 5\n",
      "15. Bandwidth: 0.48. Scores: SC= 0.12, DB= 1.29, CH=  22.06. Clusters:  13. Distribution: (89, 74, 11, 9, 6, 4\n",
      "16. Bandwidth: 0.40. Scores: SC= 0.10, DB= 0.91, CH=  16.90. Clusters:  33. Distribution: (51, 48, 47, 7, 6, 5\n",
      "17. Bandwidth: 0.47. Scores: SC= 0.11, DB= 1.01, CH=  18.56. Clusters:  13. Distribution: (109, 71, 7, 7, 4, 2\n",
      "18. Bandwidth: 0.50. Scores: SC= 0.11, DB= 1.08, CH=  19.20. Clusters:  13. Distribution: (99, 79, 7, 7, 5, 2,\n",
      "19. Bandwidth: 0.46. Scores: SC= 0.09, DB= 1.05, CH=  18.81. Clusters:  16. Distribution: (96, 69, 10, 7, 6, 5\n",
      "20. Bandwidth: 0.52. Scores: SC= 0.10, DB= 1.13, CH=  20.16. Clusters:  13. Distribution: (87, 86, 8, 7, 6, 4,\n",
      "21. Bandwidth: 0.51. Scores: SC= 0.10, DB= 1.13, CH=  20.15. Clusters:  13. Distribution: (90, 83, 8, 7, 6, 4,\n",
      "22. Bandwidth: 0.59. Scores: SC= 0.11, DB= 1.47, CH=  22.15. Clusters:   8. Distribution: (143, 29, 17, 9, 4, \n",
      "23. Bandwidth: 0.65. Scores: SC= 0.21, DB= 1.48, CH=  13.84. Clusters:   3. Distribution: (192, 16, 2)        \n",
      "24. Bandwidth: 0.49. Scores: SC= 0.10, DB= 1.16, CH=  19.26. Clusters:  13. Distribution: (98, 78, 7, 7, 5, 4,\n",
      "25. Bandwidth: 0.66. Scores: SC= 0.21, DB= 1.48, CH=  13.84. Clusters:   3. Distribution: (192, 16, 2)        \n",
      "26. Bandwidth: 0.57. Scores: SC= 0.06, DB= 1.36, CH=  20.72. Clusters:   9. Distribution: (139, 28, 16, 10, 9,\n",
      "27. Bandwidth: 0.43. Scores: SC= 0.07, DB= 1.13, CH=  15.15. Clusters:  25. Distribution: (81, 62, 8, 7, 7, 4,\n",
      "28. Bandwidth: 0.45. Scores: SC= 0.06, DB= 1.09, CH=  15.02. Clusters:  20. Distribution: (96, 69, 6, 5, 5, 5,\n",
      "29. Bandwidth: 0.44. Scores: SC= 0.05, DB= 1.15, CH=  14.79. Clusters:  21. Distribution: (90, 70, 6, 5, 5, 5,\n"
     ]
    }
   ],
   "source": [
    "top_amount = min(30,len(scores))\n",
    "\n",
    "for i in range(top_amount):\n",
    "    print_info(i)"
   ]
  },
  {
   "cell_type": "code",
   "execution_count": 10,
   "metadata": {},
   "outputs": [
    {
     "output_type": "stream",
     "name": "stdout",
     "text": [
      " 0. Bandwidth: 0.63. Scores: SC= 0.28, DB= 0.92, CH=  37.88. Clusters:   4. Distribution: (151, 54, 4, 1)     \n 1. Bandwidth: 0.64. Scores: SC= 0.28, DB= 0.92, CH=  37.88. Clusters:   4. Distribution: (151, 54, 4, 1)     \n 4. Bandwidth: 0.55. Scores: SC= 0.12, DB= 1.10, CH=  22.34. Clusters:  11. Distribution: (96, 82, 8, 8, 5, 3,\n 5. Bandwidth: 0.62. Scores: SC= 0.17, DB= 1.33, CH=  25.98. Clusters:   6. Distribution: (152, 35, 9, 9, 4, 1\n 6. Bandwidth: 0.58. Scores: SC= 0.12, DB= 1.10, CH=  22.95. Clusters:  10. Distribution: (109, 74, 9, 8, 2, 2\n 8. Bandwidth: 0.56. Scores: SC= 0.14, DB= 1.14, CH=  23.61. Clusters:  10. Distribution: (97, 86, 8, 8, 3, 2,\n 9. Bandwidth: 0.60. Scores: SC= 0.17, DB= 1.44, CH=  25.68. Clusters:   7. Distribution: (143, 30, 22, 7, 4, \n10. Bandwidth: 0.61. Scores: SC= 0.17, DB= 1.33, CH=  25.43. Clusters:   6. Distribution: (153, 34, 9, 9, 4, 1\n11. Bandwidth: 0.54. Scores: SC= 0.11, DB= 1.07, CH=  19.55. Clusters:  13. Distribution: (98, 79, 8, 7, 5, 2,\n12. Bandwidth: 0.42. Scores: SC= 0.12, DB= 0.98, CH=  18.11. Clusters:  27. Distribution: (57, 52, 49, 7, 5, 4\n13. Bandwidth: 0.53. Scores: SC= 0.11, DB= 1.07, CH=  19.45. Clusters:  13. Distribution: (100, 77, 8, 7, 5, 2\n14. Bandwidth: 0.41. Scores: SC= 0.10, DB= 0.90, CH=  16.81. Clusters:  30. Distribution: (55, 53, 48, 7, 5, 5\n15. Bandwidth: 0.48. Scores: SC= 0.12, DB= 1.29, CH=  22.06. Clusters:  13. Distribution: (89, 74, 11, 9, 6, 4\n16. Bandwidth: 0.40. Scores: SC= 0.10, DB= 0.91, CH=  16.90. Clusters:  33. Distribution: (51, 48, 47, 7, 6, 5\n17. Bandwidth: 0.47. Scores: SC= 0.11, DB= 1.01, CH=  18.56. Clusters:  13. Distribution: (109, 71, 7, 7, 4, 2\n18. Bandwidth: 0.50. Scores: SC= 0.11, DB= 1.08, CH=  19.20. Clusters:  13. Distribution: (99, 79, 7, 7, 5, 2,\n19. Bandwidth: 0.46. Scores: SC= 0.09, DB= 1.05, CH=  18.81. Clusters:  16. Distribution: (96, 69, 10, 7, 6, 5\n20. Bandwidth: 0.52. Scores: SC= 0.10, DB= 1.13, CH=  20.16. Clusters:  13. Distribution: (87, 86, 8, 7, 6, 4,\n21. Bandwidth: 0.51. Scores: SC= 0.10, DB= 1.13, CH=  20.15. Clusters:  13. Distribution: (90, 83, 8, 7, 6, 4,\n22. Bandwidth: 0.59. Scores: SC= 0.11, DB= 1.47, CH=  22.15. Clusters:   8. Distribution: (143, 29, 17, 9, 4, \n23. Bandwidth: 0.65. Scores: SC= 0.21, DB= 1.48, CH=  13.84. Clusters:   3. Distribution: (192, 16, 2)        \n24. Bandwidth: 0.49. Scores: SC= 0.10, DB= 1.16, CH=  19.26. Clusters:  13. Distribution: (98, 78, 7, 7, 5, 4,\n25. Bandwidth: 0.66. Scores: SC= 0.21, DB= 1.48, CH=  13.84. Clusters:   3. Distribution: (192, 16, 2)        \n26. Bandwidth: 0.57. Scores: SC= 0.06, DB= 1.36, CH=  20.72. Clusters:   9. Distribution: (139, 28, 16, 10, 9,\n27. Bandwidth: 0.43. Scores: SC= 0.07, DB= 1.13, CH=  15.15. Clusters:  25. Distribution: (81, 62, 8, 7, 7, 4,\n28. Bandwidth: 0.45. Scores: SC= 0.06, DB= 1.09, CH=  15.02. Clusters:  20. Distribution: (96, 69, 6, 5, 5, 5,\n29. Bandwidth: 0.44. Scores: SC= 0.05, DB= 1.15, CH=  14.79. Clusters:  21. Distribution: (90, 70, 6, 5, 5, 5,\n"
     ]
    }
   ],
   "source": [
    "def is_trivial(i):\n",
    "    return (\n",
    "        sorted_clusters[i] >= 208\n",
    "        or points_in_clusters(sorted_predictions[i])[0] >= 208\n",
    "        or len(points_in_clusters(sorted_predictions[i])) >= 100\n",
    "    )\n",
    "\n",
    "top_no_trivial = [i for i in range(len(sorted_overall)) if not is_trivial(i)][:top_amount]\n",
    "\n",
    "for i in top_no_trivial:\n",
    "    print_info(i)\n"
   ]
  },
  {
   "cell_type": "code",
   "execution_count": 11,
   "metadata": {},
   "outputs": [
    {
     "output_type": "display_data",
     "data": {
      "text/plain": "<Figure size 432x288 with 1 Axes>",
      "image/svg+xml": "<?xml version=\"1.0\" encoding=\"utf-8\" standalone=\"no\"?>\n<!DOCTYPE svg PUBLIC \"-//W3C//DTD SVG 1.1//EN\"\n  \"http://www.w3.org/Graphics/SVG/1.1/DTD/svg11.dtd\">\n<!-- Created with matplotlib (https://matplotlib.org/) -->\n<svg height=\"248.518125pt\" version=\"1.1\" viewBox=\"0 0 370.564616 248.518125\" width=\"370.564616pt\" xmlns=\"http://www.w3.org/2000/svg\" xmlns:xlink=\"http://www.w3.org/1999/xlink\">\n <metadata>\n  <rdf:RDF xmlns:cc=\"http://creativecommons.org/ns#\" xmlns:dc=\"http://purl.org/dc/elements/1.1/\" xmlns:rdf=\"http://www.w3.org/1999/02/22-rdf-syntax-ns#\">\n   <cc:Work>\n    <dc:type rdf:resource=\"http://purl.org/dc/dcmitype/StillImage\"/>\n    <dc:date>2020-11-25T10:59:03.036974</dc:date>\n    <dc:format>image/svg+xml</dc:format>\n    <dc:creator>\n     <cc:Agent>\n      <dc:title>Matplotlib v3.3.2, https://matplotlib.org/</dc:title>\n     </cc:Agent>\n    </dc:creator>\n   </cc:Work>\n  </rdf:RDF>\n </metadata>\n <defs>\n  <style type=\"text/css\">*{stroke-linecap:butt;stroke-linejoin:round;}</style>\n </defs>\n <g id=\"figure_1\">\n  <g id=\"patch_1\">\n   <path d=\"M -0 248.518125 \nL 370.564616 248.518125 \nL 370.564616 0 \nL -0 0 \nz\n\" style=\"fill:none;\"/>\n  </g>\n  <g id=\"axes_1\">\n   <g id=\"patch_2\">\n    <path d=\"M 26.925 224.64 \nL 361.725 224.64 \nL 361.725 7.2 \nL 26.925 7.2 \nz\n\" style=\"fill:#ffffff;\"/>\n   </g>\n   <g id=\"matplotlib.axis_1\">\n    <g id=\"xtick_1\">\n     <g id=\"line2d_1\">\n      <defs>\n       <path d=\"M 0 0 \nL 0 3.5 \n\" id=\"mcab3146b20\" style=\"stroke:#000000;stroke-width:0.8;\"/>\n      </defs>\n      <g>\n       <use style=\"stroke:#000000;stroke-width:0.8;\" x=\"42.143182\" xlink:href=\"#mcab3146b20\" y=\"224.64\"/>\n      </g>\n     </g>\n     <g id=\"text_1\">\n      <!-- 0 -->\n      <g transform=\"translate(38.961932 239.238438)scale(0.1 -0.1)\">\n       <defs>\n        <path d=\"M 31.78125 66.40625 \nQ 24.171875 66.40625 20.328125 58.90625 \nQ 16.5 51.421875 16.5 36.375 \nQ 16.5 21.390625 20.328125 13.890625 \nQ 24.171875 6.390625 31.78125 6.390625 \nQ 39.453125 6.390625 43.28125 13.890625 \nQ 47.125 21.390625 47.125 36.375 \nQ 47.125 51.421875 43.28125 58.90625 \nQ 39.453125 66.40625 31.78125 66.40625 \nz\nM 31.78125 74.21875 \nQ 44.046875 74.21875 50.515625 64.515625 \nQ 56.984375 54.828125 56.984375 36.375 \nQ 56.984375 17.96875 50.515625 8.265625 \nQ 44.046875 -1.421875 31.78125 -1.421875 \nQ 19.53125 -1.421875 13.0625 8.265625 \nQ 6.59375 17.96875 6.59375 36.375 \nQ 6.59375 54.828125 13.0625 64.515625 \nQ 19.53125 74.21875 31.78125 74.21875 \nz\n\" id=\"DejaVuSans-48\"/>\n       </defs>\n       <use xlink:href=\"#DejaVuSans-48\"/>\n      </g>\n     </g>\n    </g>\n    <g id=\"xtick_2\">\n     <g id=\"line2d_2\">\n      <g>\n       <use style=\"stroke:#000000;stroke-width:0.8;\" x=\"94.619671\" xlink:href=\"#mcab3146b20\" y=\"224.64\"/>\n      </g>\n     </g>\n     <g id=\"text_2\">\n      <!-- 5 -->\n      <g transform=\"translate(91.438421 239.238438)scale(0.1 -0.1)\">\n       <defs>\n        <path d=\"M 10.796875 72.90625 \nL 49.515625 72.90625 \nL 49.515625 64.59375 \nL 19.828125 64.59375 \nL 19.828125 46.734375 \nQ 21.96875 47.46875 24.109375 47.828125 \nQ 26.265625 48.1875 28.421875 48.1875 \nQ 40.625 48.1875 47.75 41.5 \nQ 54.890625 34.8125 54.890625 23.390625 \nQ 54.890625 11.625 47.5625 5.09375 \nQ 40.234375 -1.421875 26.90625 -1.421875 \nQ 22.3125 -1.421875 17.546875 -0.640625 \nQ 12.796875 0.140625 7.71875 1.703125 \nL 7.71875 11.625 \nQ 12.109375 9.234375 16.796875 8.0625 \nQ 21.484375 6.890625 26.703125 6.890625 \nQ 35.15625 6.890625 40.078125 11.328125 \nQ 45.015625 15.765625 45.015625 23.390625 \nQ 45.015625 31 40.078125 35.4375 \nQ 35.15625 39.890625 26.703125 39.890625 \nQ 22.75 39.890625 18.8125 39.015625 \nQ 14.890625 38.140625 10.796875 36.28125 \nz\n\" id=\"DejaVuSans-53\"/>\n       </defs>\n       <use xlink:href=\"#DejaVuSans-53\"/>\n      </g>\n     </g>\n    </g>\n    <g id=\"xtick_3\">\n     <g id=\"line2d_3\">\n      <g>\n       <use style=\"stroke:#000000;stroke-width:0.8;\" x=\"147.09616\" xlink:href=\"#mcab3146b20\" y=\"224.64\"/>\n      </g>\n     </g>\n     <g id=\"text_3\">\n      <!-- 10 -->\n      <g transform=\"translate(140.73366 239.238438)scale(0.1 -0.1)\">\n       <defs>\n        <path d=\"M 12.40625 8.296875 \nL 28.515625 8.296875 \nL 28.515625 63.921875 \nL 10.984375 60.40625 \nL 10.984375 69.390625 \nL 28.421875 72.90625 \nL 38.28125 72.90625 \nL 38.28125 8.296875 \nL 54.390625 8.296875 \nL 54.390625 0 \nL 12.40625 0 \nz\n\" id=\"DejaVuSans-49\"/>\n       </defs>\n       <use xlink:href=\"#DejaVuSans-49\"/>\n       <use x=\"63.623047\" xlink:href=\"#DejaVuSans-48\"/>\n      </g>\n     </g>\n    </g>\n    <g id=\"xtick_4\">\n     <g id=\"line2d_4\">\n      <g>\n       <use style=\"stroke:#000000;stroke-width:0.8;\" x=\"199.572649\" xlink:href=\"#mcab3146b20\" y=\"224.64\"/>\n      </g>\n     </g>\n     <g id=\"text_4\">\n      <!-- 15 -->\n      <g transform=\"translate(193.210149 239.238438)scale(0.1 -0.1)\">\n       <use xlink:href=\"#DejaVuSans-49\"/>\n       <use x=\"63.623047\" xlink:href=\"#DejaVuSans-53\"/>\n      </g>\n     </g>\n    </g>\n    <g id=\"xtick_5\">\n     <g id=\"line2d_5\">\n      <g>\n       <use style=\"stroke:#000000;stroke-width:0.8;\" x=\"252.049138\" xlink:href=\"#mcab3146b20\" y=\"224.64\"/>\n      </g>\n     </g>\n     <g id=\"text_5\">\n      <!-- 20 -->\n      <g transform=\"translate(245.686638 239.238438)scale(0.1 -0.1)\">\n       <defs>\n        <path d=\"M 19.1875 8.296875 \nL 53.609375 8.296875 \nL 53.609375 0 \nL 7.328125 0 \nL 7.328125 8.296875 \nQ 12.9375 14.109375 22.625 23.890625 \nQ 32.328125 33.6875 34.8125 36.53125 \nQ 39.546875 41.84375 41.421875 45.53125 \nQ 43.3125 49.21875 43.3125 52.78125 \nQ 43.3125 58.59375 39.234375 62.25 \nQ 35.15625 65.921875 28.609375 65.921875 \nQ 23.96875 65.921875 18.8125 64.3125 \nQ 13.671875 62.703125 7.8125 59.421875 \nL 7.8125 69.390625 \nQ 13.765625 71.78125 18.9375 73 \nQ 24.125 74.21875 28.421875 74.21875 \nQ 39.75 74.21875 46.484375 68.546875 \nQ 53.21875 62.890625 53.21875 53.421875 \nQ 53.21875 48.921875 51.53125 44.890625 \nQ 49.859375 40.875 45.40625 35.40625 \nQ 44.1875 33.984375 37.640625 27.21875 \nQ 31.109375 20.453125 19.1875 8.296875 \nz\n\" id=\"DejaVuSans-50\"/>\n       </defs>\n       <use xlink:href=\"#DejaVuSans-50\"/>\n       <use x=\"63.623047\" xlink:href=\"#DejaVuSans-48\"/>\n      </g>\n     </g>\n    </g>\n    <g id=\"xtick_6\">\n     <g id=\"line2d_6\">\n      <g>\n       <use style=\"stroke:#000000;stroke-width:0.8;\" x=\"304.525627\" xlink:href=\"#mcab3146b20\" y=\"224.64\"/>\n      </g>\n     </g>\n     <g id=\"text_6\">\n      <!-- 25 -->\n      <g transform=\"translate(298.163127 239.238438)scale(0.1 -0.1)\">\n       <use xlink:href=\"#DejaVuSans-50\"/>\n       <use x=\"63.623047\" xlink:href=\"#DejaVuSans-53\"/>\n      </g>\n     </g>\n    </g>\n    <g id=\"xtick_7\">\n     <g id=\"line2d_7\">\n      <g>\n       <use style=\"stroke:#000000;stroke-width:0.8;\" x=\"357.002116\" xlink:href=\"#mcab3146b20\" y=\"224.64\"/>\n      </g>\n     </g>\n     <g id=\"text_7\">\n      <!-- 30 -->\n      <g transform=\"translate(350.639616 239.238438)scale(0.1 -0.1)\">\n       <defs>\n        <path d=\"M 40.578125 39.3125 \nQ 47.65625 37.796875 51.625 33 \nQ 55.609375 28.21875 55.609375 21.1875 \nQ 55.609375 10.40625 48.1875 4.484375 \nQ 40.765625 -1.421875 27.09375 -1.421875 \nQ 22.515625 -1.421875 17.65625 -0.515625 \nQ 12.796875 0.390625 7.625 2.203125 \nL 7.625 11.71875 \nQ 11.71875 9.328125 16.59375 8.109375 \nQ 21.484375 6.890625 26.8125 6.890625 \nQ 36.078125 6.890625 40.9375 10.546875 \nQ 45.796875 14.203125 45.796875 21.1875 \nQ 45.796875 27.640625 41.28125 31.265625 \nQ 36.765625 34.90625 28.71875 34.90625 \nL 20.21875 34.90625 \nL 20.21875 43.015625 \nL 29.109375 43.015625 \nQ 36.375 43.015625 40.234375 45.921875 \nQ 44.09375 48.828125 44.09375 54.296875 \nQ 44.09375 59.90625 40.109375 62.90625 \nQ 36.140625 65.921875 28.71875 65.921875 \nQ 24.65625 65.921875 20.015625 65.03125 \nQ 15.375 64.15625 9.8125 62.3125 \nL 9.8125 71.09375 \nQ 15.4375 72.65625 20.34375 73.4375 \nQ 25.25 74.21875 29.59375 74.21875 \nQ 40.828125 74.21875 47.359375 69.109375 \nQ 53.90625 64.015625 53.90625 55.328125 \nQ 53.90625 49.265625 50.4375 45.09375 \nQ 46.96875 40.921875 40.578125 39.3125 \nz\n\" id=\"DejaVuSans-51\"/>\n       </defs>\n       <use xlink:href=\"#DejaVuSans-51\"/>\n       <use x=\"63.623047\" xlink:href=\"#DejaVuSans-48\"/>\n      </g>\n     </g>\n    </g>\n   </g>\n   <g id=\"matplotlib.axis_2\">\n    <g id=\"ytick_1\">\n     <g id=\"line2d_8\">\n      <defs>\n       <path d=\"M 0 0 \nL -3.5 0 \n\" id=\"mbb1d364d94\" style=\"stroke:#000000;stroke-width:0.8;\"/>\n      </defs>\n      <g>\n       <use style=\"stroke:#000000;stroke-width:0.8;\" x=\"26.925\" xlink:href=\"#mbb1d364d94\" y=\"195.626745\"/>\n      </g>\n     </g>\n     <g id=\"text_8\">\n      <!-- 5 -->\n      <g transform=\"translate(13.5625 199.425964)scale(0.1 -0.1)\">\n       <use xlink:href=\"#DejaVuSans-53\"/>\n      </g>\n     </g>\n    </g>\n    <g id=\"ytick_2\">\n     <g id=\"line2d_9\">\n      <g>\n       <use style=\"stroke:#000000;stroke-width:0.8;\" x=\"26.925\" xlink:href=\"#mbb1d364d94\" y=\"163.744047\"/>\n      </g>\n     </g>\n     <g id=\"text_9\">\n      <!-- 10 -->\n      <g transform=\"translate(7.2 167.543266)scale(0.1 -0.1)\">\n       <use xlink:href=\"#DejaVuSans-49\"/>\n       <use x=\"63.623047\" xlink:href=\"#DejaVuSans-48\"/>\n      </g>\n     </g>\n    </g>\n    <g id=\"ytick_3\">\n     <g id=\"line2d_10\">\n      <g>\n       <use style=\"stroke:#000000;stroke-width:0.8;\" x=\"26.925\" xlink:href=\"#mbb1d364d94\" y=\"131.861349\"/>\n      </g>\n     </g>\n     <g id=\"text_10\">\n      <!-- 15 -->\n      <g transform=\"translate(7.2 135.660568)scale(0.1 -0.1)\">\n       <use xlink:href=\"#DejaVuSans-49\"/>\n       <use x=\"63.623047\" xlink:href=\"#DejaVuSans-53\"/>\n      </g>\n     </g>\n    </g>\n    <g id=\"ytick_4\">\n     <g id=\"line2d_11\">\n      <g>\n       <use style=\"stroke:#000000;stroke-width:0.8;\" x=\"26.925\" xlink:href=\"#mbb1d364d94\" y=\"99.978651\"/>\n      </g>\n     </g>\n     <g id=\"text_11\">\n      <!-- 20 -->\n      <g transform=\"translate(7.2 103.77787)scale(0.1 -0.1)\">\n       <use xlink:href=\"#DejaVuSans-50\"/>\n       <use x=\"63.623047\" xlink:href=\"#DejaVuSans-48\"/>\n      </g>\n     </g>\n    </g>\n    <g id=\"ytick_5\">\n     <g id=\"line2d_12\">\n      <g>\n       <use style=\"stroke:#000000;stroke-width:0.8;\" x=\"26.925\" xlink:href=\"#mbb1d364d94\" y=\"68.095953\"/>\n      </g>\n     </g>\n     <g id=\"text_12\">\n      <!-- 25 -->\n      <g transform=\"translate(7.2 71.895172)scale(0.1 -0.1)\">\n       <use xlink:href=\"#DejaVuSans-50\"/>\n       <use x=\"63.623047\" xlink:href=\"#DejaVuSans-53\"/>\n      </g>\n     </g>\n    </g>\n    <g id=\"ytick_6\">\n     <g id=\"line2d_13\">\n      <g>\n       <use style=\"stroke:#000000;stroke-width:0.8;\" x=\"26.925\" xlink:href=\"#mbb1d364d94\" y=\"36.213255\"/>\n      </g>\n     </g>\n     <g id=\"text_13\">\n      <!-- 30 -->\n      <g transform=\"translate(7.2 40.012474)scale(0.1 -0.1)\">\n       <use xlink:href=\"#DejaVuSans-51\"/>\n       <use x=\"63.623047\" xlink:href=\"#DejaVuSans-48\"/>\n      </g>\n     </g>\n    </g>\n   </g>\n   <g id=\"line2d_14\">\n    <defs>\n     <path d=\"M 0 1.5 \nC 0.397805 1.5 0.77937 1.341951 1.06066 1.06066 \nC 1.341951 0.77937 1.5 0.397805 1.5 0 \nC 1.5 -0.397805 1.341951 -0.77937 1.06066 -1.06066 \nC 0.77937 -1.341951 0.397805 -1.5 0 -1.5 \nC -0.397805 -1.5 -0.77937 -1.341951 -1.06066 -1.06066 \nC -1.341951 -0.77937 -1.5 -0.397805 -1.5 0 \nC -1.5 0.397805 -1.341951 0.77937 -1.06066 1.06066 \nC -0.77937 1.341951 -0.397805 1.5 0 1.5 \nz\n\" id=\"m60b41eb495\" style=\"stroke:#1f77b4;\"/>\n    </defs>\n    <g clip-path=\"url(#p6366343d74)\">\n     <use style=\"fill:#1f77b4;stroke:#1f77b4;\" x=\"42.143182\" xlink:href=\"#m60b41eb495\" y=\"202.003284\"/>\n     <use style=\"fill:#1f77b4;stroke:#1f77b4;\" x=\"52.63848\" xlink:href=\"#m60b41eb495\" y=\"202.003284\"/>\n     <use style=\"fill:#1f77b4;stroke:#1f77b4;\" x=\"63.133777\" xlink:href=\"#m60b41eb495\" y=\"214.756364\"/>\n     <use style=\"fill:#1f77b4;stroke:#1f77b4;\" x=\"73.629075\" xlink:href=\"#m60b41eb495\" y=\"214.756364\"/>\n     <use style=\"fill:#1f77b4;stroke:#1f77b4;\" x=\"84.124373\" xlink:href=\"#m60b41eb495\" y=\"157.367507\"/>\n     <use style=\"fill:#1f77b4;stroke:#1f77b4;\" x=\"94.619671\" xlink:href=\"#m60b41eb495\" y=\"189.250205\"/>\n     <use style=\"fill:#1f77b4;stroke:#1f77b4;\" x=\"105.114969\" xlink:href=\"#m60b41eb495\" y=\"163.744047\"/>\n     <use style=\"fill:#1f77b4;stroke:#1f77b4;\" x=\"115.610266\" xlink:href=\"#m60b41eb495\" y=\"214.756364\"/>\n     <use style=\"fill:#1f77b4;stroke:#1f77b4;\" x=\"126.105564\" xlink:href=\"#m60b41eb495\" y=\"163.744047\"/>\n     <use style=\"fill:#1f77b4;stroke:#1f77b4;\" x=\"136.600862\" xlink:href=\"#m60b41eb495\" y=\"182.873666\"/>\n     <use style=\"fill:#1f77b4;stroke:#1f77b4;\" x=\"147.09616\" xlink:href=\"#m60b41eb495\" y=\"189.250205\"/>\n     <use style=\"fill:#1f77b4;stroke:#1f77b4;\" x=\"157.591458\" xlink:href=\"#m60b41eb495\" y=\"144.614428\"/>\n     <use style=\"fill:#1f77b4;stroke:#1f77b4;\" x=\"168.086755\" xlink:href=\"#m60b41eb495\" y=\"55.342874\"/>\n     <use style=\"fill:#1f77b4;stroke:#1f77b4;\" x=\"178.582053\" xlink:href=\"#m60b41eb495\" y=\"144.614428\"/>\n     <use style=\"fill:#1f77b4;stroke:#1f77b4;\" x=\"189.077351\" xlink:href=\"#m60b41eb495\" y=\"36.213255\"/>\n     <use style=\"fill:#1f77b4;stroke:#1f77b4;\" x=\"199.572649\" xlink:href=\"#m60b41eb495\" y=\"144.614428\"/>\n     <use style=\"fill:#1f77b4;stroke:#1f77b4;\" x=\"210.067947\" xlink:href=\"#m60b41eb495\" y=\"17.083636\"/>\n     <use style=\"fill:#1f77b4;stroke:#1f77b4;\" x=\"220.563245\" xlink:href=\"#m60b41eb495\" y=\"144.614428\"/>\n     <use style=\"fill:#1f77b4;stroke:#1f77b4;\" x=\"231.058542\" xlink:href=\"#m60b41eb495\" y=\"144.614428\"/>\n     <use style=\"fill:#1f77b4;stroke:#1f77b4;\" x=\"241.55384\" xlink:href=\"#m60b41eb495\" y=\"125.484809\"/>\n     <use style=\"fill:#1f77b4;stroke:#1f77b4;\" x=\"252.049138\" xlink:href=\"#m60b41eb495\" y=\"144.614428\"/>\n     <use style=\"fill:#1f77b4;stroke:#1f77b4;\" x=\"262.544436\" xlink:href=\"#m60b41eb495\" y=\"144.614428\"/>\n     <use style=\"fill:#1f77b4;stroke:#1f77b4;\" x=\"273.039734\" xlink:href=\"#m60b41eb495\" y=\"176.497126\"/>\n     <use style=\"fill:#1f77b4;stroke:#1f77b4;\" x=\"283.535031\" xlink:href=\"#m60b41eb495\" y=\"208.379824\"/>\n     <use style=\"fill:#1f77b4;stroke:#1f77b4;\" x=\"294.030329\" xlink:href=\"#m60b41eb495\" y=\"144.614428\"/>\n     <use style=\"fill:#1f77b4;stroke:#1f77b4;\" x=\"304.525627\" xlink:href=\"#m60b41eb495\" y=\"208.379824\"/>\n     <use style=\"fill:#1f77b4;stroke:#1f77b4;\" x=\"315.020925\" xlink:href=\"#m60b41eb495\" y=\"170.120587\"/>\n     <use style=\"fill:#1f77b4;stroke:#1f77b4;\" x=\"325.516223\" xlink:href=\"#m60b41eb495\" y=\"68.095953\"/>\n     <use style=\"fill:#1f77b4;stroke:#1f77b4;\" x=\"336.01152\" xlink:href=\"#m60b41eb495\" y=\"99.978651\"/>\n     <use style=\"fill:#1f77b4;stroke:#1f77b4;\" x=\"346.506818\" xlink:href=\"#m60b41eb495\" y=\"93.602111\"/>\n    </g>\n   </g>\n   <g id=\"patch_3\">\n    <path d=\"M 26.925 224.64 \nL 26.925 7.2 \n\" style=\"fill:none;stroke:#000000;stroke-linecap:square;stroke-linejoin:miter;stroke-width:0.8;\"/>\n   </g>\n   <g id=\"patch_4\">\n    <path d=\"M 361.725 224.64 \nL 361.725 7.2 \n\" style=\"fill:none;stroke:#000000;stroke-linecap:square;stroke-linejoin:miter;stroke-width:0.8;\"/>\n   </g>\n   <g id=\"patch_5\">\n    <path d=\"M 26.925 224.64 \nL 361.725 224.64 \n\" style=\"fill:none;stroke:#000000;stroke-linecap:square;stroke-linejoin:miter;stroke-width:0.8;\"/>\n   </g>\n   <g id=\"patch_6\">\n    <path d=\"M 26.925 7.2 \nL 361.725 7.2 \n\" style=\"fill:none;stroke:#000000;stroke-linecap:square;stroke-linejoin:miter;stroke-width:0.8;\"/>\n   </g>\n  </g>\n </g>\n <defs>\n  <clipPath id=\"p6366343d74\">\n   <rect height=\"217.44\" width=\"334.8\" x=\"26.925\" y=\"7.2\"/>\n  </clipPath>\n </defs>\n</svg>\n",
      "image/png": "[encoded data removed]"
     },
     "metadata": {
      "needs_background": "light"
     }
    }
   ],
   "source": [
    "plt.plot(sorted_overall, sorted_clusters,'.')\n",
    "plt.show()\n"
   ]
  },
  {
   "cell_type": "code",
   "execution_count": 12,
   "metadata": {},
   "outputs": [
    {
     "output_type": "display_data",
     "data": {
      "text/plain": "<Figure size 432x288 with 1 Axes>",
      "image/svg+xml": "<?xml version=\"1.0\" encoding=\"utf-8\" standalone=\"no\"?>\n<!DOCTYPE svg PUBLIC \"-//W3C//DTD SVG 1.1//EN\"\n  \"http://www.w3.org/Graphics/SVG/1.1/DTD/svg11.dtd\">\n<!-- Created with matplotlib (https://matplotlib.org/) -->\n<svg height=\"248.518125pt\" version=\"1.1\" viewBox=\"0 0 368.925 248.518125\" width=\"368.925pt\" xmlns=\"http://www.w3.org/2000/svg\" xmlns:xlink=\"http://www.w3.org/1999/xlink\">\n <metadata>\n  <rdf:RDF xmlns:cc=\"http://creativecommons.org/ns#\" xmlns:dc=\"http://purl.org/dc/elements/1.1/\" xmlns:rdf=\"http://www.w3.org/1999/02/22-rdf-syntax-ns#\">\n   <cc:Work>\n    <dc:type rdf:resource=\"http://purl.org/dc/dcmitype/StillImage\"/>\n    <dc:date>2020-11-25T10:59:03.255018</dc:date>\n    <dc:format>image/svg+xml</dc:format>\n    <dc:creator>\n     <cc:Agent>\n      <dc:title>Matplotlib v3.3.2, https://matplotlib.org/</dc:title>\n     </cc:Agent>\n    </dc:creator>\n   </cc:Work>\n  </rdf:RDF>\n </metadata>\n <defs>\n  <style type=\"text/css\">*{stroke-linecap:butt;stroke-linejoin:round;}</style>\n </defs>\n <g id=\"figure_1\">\n  <g id=\"patch_1\">\n   <path d=\"M -0 248.518125 \nL 368.925 248.518125 \nL 368.925 0 \nL -0 0 \nz\n\" style=\"fill:none;\"/>\n  </g>\n  <g id=\"axes_1\">\n   <g id=\"patch_2\">\n    <path d=\"M 26.925 224.64 \nL 361.725 224.64 \nL 361.725 7.2 \nL 26.925 7.2 \nz\n\" style=\"fill:#ffffff;\"/>\n   </g>\n   <g id=\"matplotlib.axis_1\">\n    <g id=\"xtick_1\">\n     <g id=\"line2d_1\">\n      <defs>\n       <path d=\"M 0 0 \nL 0 3.5 \n\" id=\"m98c9f17412\" style=\"stroke:#000000;stroke-width:0.8;\"/>\n      </defs>\n      <g>\n       <use style=\"stroke:#000000;stroke-width:0.8;\" x=\"42.143182\" xlink:href=\"#m98c9f17412\" y=\"224.64\"/>\n      </g>\n     </g>\n     <g id=\"text_1\">\n      <!-- 0 -->\n      <g transform=\"translate(38.961932 239.238437)scale(0.1 -0.1)\">\n       <defs>\n        <path d=\"M 31.78125 66.40625 \nQ 24.171875 66.40625 20.328125 58.90625 \nQ 16.5 51.421875 16.5 36.375 \nQ 16.5 21.390625 20.328125 13.890625 \nQ 24.171875 6.390625 31.78125 6.390625 \nQ 39.453125 6.390625 43.28125 13.890625 \nQ 47.125 21.390625 47.125 36.375 \nQ 47.125 51.421875 43.28125 58.90625 \nQ 39.453125 66.40625 31.78125 66.40625 \nz\nM 31.78125 74.21875 \nQ 44.046875 74.21875 50.515625 64.515625 \nQ 56.984375 54.828125 56.984375 36.375 \nQ 56.984375 17.96875 50.515625 8.265625 \nQ 44.046875 -1.421875 31.78125 -1.421875 \nQ 19.53125 -1.421875 13.0625 8.265625 \nQ 6.59375 17.96875 6.59375 36.375 \nQ 6.59375 54.828125 13.0625 64.515625 \nQ 19.53125 74.21875 31.78125 74.21875 \nz\n\" id=\"DejaVuSans-48\"/>\n       </defs>\n       <use xlink:href=\"#DejaVuSans-48\"/>\n      </g>\n     </g>\n    </g>\n    <g id=\"xtick_2\">\n     <g id=\"line2d_2\">\n      <g>\n       <use style=\"stroke:#000000;stroke-width:0.8;\" x=\"100.67465\" xlink:href=\"#m98c9f17412\" y=\"224.64\"/>\n      </g>\n     </g>\n     <g id=\"text_2\">\n      <!-- 5 -->\n      <g transform=\"translate(97.4934 239.238437)scale(0.1 -0.1)\">\n       <defs>\n        <path d=\"M 10.796875 72.90625 \nL 49.515625 72.90625 \nL 49.515625 64.59375 \nL 19.828125 64.59375 \nL 19.828125 46.734375 \nQ 21.96875 47.46875 24.109375 47.828125 \nQ 26.265625 48.1875 28.421875 48.1875 \nQ 40.625 48.1875 47.75 41.5 \nQ 54.890625 34.8125 54.890625 23.390625 \nQ 54.890625 11.625 47.5625 5.09375 \nQ 40.234375 -1.421875 26.90625 -1.421875 \nQ 22.3125 -1.421875 17.546875 -0.640625 \nQ 12.796875 0.140625 7.71875 1.703125 \nL 7.71875 11.625 \nQ 12.109375 9.234375 16.796875 8.0625 \nQ 21.484375 6.890625 26.703125 6.890625 \nQ 35.15625 6.890625 40.078125 11.328125 \nQ 45.015625 15.765625 45.015625 23.390625 \nQ 45.015625 31 40.078125 35.4375 \nQ 35.15625 39.890625 26.703125 39.890625 \nQ 22.75 39.890625 18.8125 39.015625 \nQ 14.890625 38.140625 10.796875 36.28125 \nz\n\" id=\"DejaVuSans-53\"/>\n       </defs>\n       <use xlink:href=\"#DejaVuSans-53\"/>\n      </g>\n     </g>\n    </g>\n    <g id=\"xtick_3\">\n     <g id=\"line2d_3\">\n      <g>\n       <use style=\"stroke:#000000;stroke-width:0.8;\" x=\"159.206119\" xlink:href=\"#m98c9f17412\" y=\"224.64\"/>\n      </g>\n     </g>\n     <g id=\"text_3\">\n      <!-- 10 -->\n      <g transform=\"translate(152.843619 239.238437)scale(0.1 -0.1)\">\n       <defs>\n        <path d=\"M 12.40625 8.296875 \nL 28.515625 8.296875 \nL 28.515625 63.921875 \nL 10.984375 60.40625 \nL 10.984375 69.390625 \nL 28.421875 72.90625 \nL 38.28125 72.90625 \nL 38.28125 8.296875 \nL 54.390625 8.296875 \nL 54.390625 0 \nL 12.40625 0 \nz\n\" id=\"DejaVuSans-49\"/>\n       </defs>\n       <use xlink:href=\"#DejaVuSans-49\"/>\n       <use x=\"63.623047\" xlink:href=\"#DejaVuSans-48\"/>\n      </g>\n     </g>\n    </g>\n    <g id=\"xtick_4\">\n     <g id=\"line2d_4\">\n      <g>\n       <use style=\"stroke:#000000;stroke-width:0.8;\" x=\"217.737587\" xlink:href=\"#m98c9f17412\" y=\"224.64\"/>\n      </g>\n     </g>\n     <g id=\"text_4\">\n      <!-- 15 -->\n      <g transform=\"translate(211.375087 239.238437)scale(0.1 -0.1)\">\n       <use xlink:href=\"#DejaVuSans-49\"/>\n       <use x=\"63.623047\" xlink:href=\"#DejaVuSans-53\"/>\n      </g>\n     </g>\n    </g>\n    <g id=\"xtick_5\">\n     <g id=\"line2d_5\">\n      <g>\n       <use style=\"stroke:#000000;stroke-width:0.8;\" x=\"276.269056\" xlink:href=\"#m98c9f17412\" y=\"224.64\"/>\n      </g>\n     </g>\n     <g id=\"text_5\">\n      <!-- 20 -->\n      <g transform=\"translate(269.906556 239.238437)scale(0.1 -0.1)\">\n       <defs>\n        <path d=\"M 19.1875 8.296875 \nL 53.609375 8.296875 \nL 53.609375 0 \nL 7.328125 0 \nL 7.328125 8.296875 \nQ 12.9375 14.109375 22.625 23.890625 \nQ 32.328125 33.6875 34.8125 36.53125 \nQ 39.546875 41.84375 41.421875 45.53125 \nQ 43.3125 49.21875 43.3125 52.78125 \nQ 43.3125 58.59375 39.234375 62.25 \nQ 35.15625 65.921875 28.609375 65.921875 \nQ 23.96875 65.921875 18.8125 64.3125 \nQ 13.671875 62.703125 7.8125 59.421875 \nL 7.8125 69.390625 \nQ 13.765625 71.78125 18.9375 73 \nQ 24.125 74.21875 28.421875 74.21875 \nQ 39.75 74.21875 46.484375 68.546875 \nQ 53.21875 62.890625 53.21875 53.421875 \nQ 53.21875 48.921875 51.53125 44.890625 \nQ 49.859375 40.875 45.40625 35.40625 \nQ 44.1875 33.984375 37.640625 27.21875 \nQ 31.109375 20.453125 19.1875 8.296875 \nz\n\" id=\"DejaVuSans-50\"/>\n       </defs>\n       <use xlink:href=\"#DejaVuSans-50\"/>\n       <use x=\"63.623047\" xlink:href=\"#DejaVuSans-48\"/>\n      </g>\n     </g>\n    </g>\n    <g id=\"xtick_6\">\n     <g id=\"line2d_6\">\n      <g>\n       <use style=\"stroke:#000000;stroke-width:0.8;\" x=\"334.800524\" xlink:href=\"#m98c9f17412\" y=\"224.64\"/>\n      </g>\n     </g>\n     <g id=\"text_6\">\n      <!-- 25 -->\n      <g transform=\"translate(328.438024 239.238437)scale(0.1 -0.1)\">\n       <use xlink:href=\"#DejaVuSans-50\"/>\n       <use x=\"63.623047\" xlink:href=\"#DejaVuSans-53\"/>\n      </g>\n     </g>\n    </g>\n   </g>\n   <g id=\"matplotlib.axis_2\">\n    <g id=\"ytick_1\">\n     <g id=\"line2d_7\">\n      <defs>\n       <path d=\"M 0 0 \nL -3.5 0 \n\" id=\"m21ecdff771\" style=\"stroke:#000000;stroke-width:0.8;\"/>\n      </defs>\n      <g>\n       <use style=\"stroke:#000000;stroke-width:0.8;\" x=\"26.925\" xlink:href=\"#m21ecdff771\" y=\"214.756364\"/>\n      </g>\n     </g>\n     <g id=\"text_7\">\n      <!-- 2 -->\n      <g transform=\"translate(13.5625 218.555582)scale(0.1 -0.1)\">\n       <use xlink:href=\"#DejaVuSans-50\"/>\n      </g>\n     </g>\n    </g>\n    <g id=\"ytick_2\">\n     <g id=\"line2d_8\">\n      <g>\n       <use style=\"stroke:#000000;stroke-width:0.8;\" x=\"26.925\" xlink:href=\"#m21ecdff771\" y=\"186.517403\"/>\n      </g>\n     </g>\n     <g id=\"text_8\">\n      <!-- 4 -->\n      <g transform=\"translate(13.5625 190.316621)scale(0.1 -0.1)\">\n       <defs>\n        <path d=\"M 37.796875 64.3125 \nL 12.890625 25.390625 \nL 37.796875 25.390625 \nz\nM 35.203125 72.90625 \nL 47.609375 72.90625 \nL 47.609375 25.390625 \nL 58.015625 25.390625 \nL 58.015625 17.1875 \nL 47.609375 17.1875 \nL 47.609375 0 \nL 37.796875 0 \nL 37.796875 17.1875 \nL 4.890625 17.1875 \nL 4.890625 26.703125 \nz\n\" id=\"DejaVuSans-52\"/>\n       </defs>\n       <use xlink:href=\"#DejaVuSans-52\"/>\n      </g>\n     </g>\n    </g>\n    <g id=\"ytick_3\">\n     <g id=\"line2d_9\">\n      <g>\n       <use style=\"stroke:#000000;stroke-width:0.8;\" x=\"26.925\" xlink:href=\"#m21ecdff771\" y=\"158.278442\"/>\n      </g>\n     </g>\n     <g id=\"text_9\">\n      <!-- 6 -->\n      <g transform=\"translate(13.5625 162.07766)scale(0.1 -0.1)\">\n       <defs>\n        <path d=\"M 33.015625 40.375 \nQ 26.375 40.375 22.484375 35.828125 \nQ 18.609375 31.296875 18.609375 23.390625 \nQ 18.609375 15.53125 22.484375 10.953125 \nQ 26.375 6.390625 33.015625 6.390625 \nQ 39.65625 6.390625 43.53125 10.953125 \nQ 47.40625 15.53125 47.40625 23.390625 \nQ 47.40625 31.296875 43.53125 35.828125 \nQ 39.65625 40.375 33.015625 40.375 \nz\nM 52.59375 71.296875 \nL 52.59375 62.3125 \nQ 48.875 64.0625 45.09375 64.984375 \nQ 41.3125 65.921875 37.59375 65.921875 \nQ 27.828125 65.921875 22.671875 59.328125 \nQ 17.53125 52.734375 16.796875 39.40625 \nQ 19.671875 43.65625 24.015625 45.921875 \nQ 28.375 48.1875 33.59375 48.1875 \nQ 44.578125 48.1875 50.953125 41.515625 \nQ 57.328125 34.859375 57.328125 23.390625 \nQ 57.328125 12.15625 50.6875 5.359375 \nQ 44.046875 -1.421875 33.015625 -1.421875 \nQ 20.359375 -1.421875 13.671875 8.265625 \nQ 6.984375 17.96875 6.984375 36.375 \nQ 6.984375 53.65625 15.1875 63.9375 \nQ 23.390625 74.21875 37.203125 74.21875 \nQ 40.921875 74.21875 44.703125 73.484375 \nQ 48.484375 72.75 52.59375 71.296875 \nz\n\" id=\"DejaVuSans-54\"/>\n       </defs>\n       <use xlink:href=\"#DejaVuSans-54\"/>\n      </g>\n     </g>\n    </g>\n    <g id=\"ytick_4\">\n     <g id=\"line2d_10\">\n      <g>\n       <use style=\"stroke:#000000;stroke-width:0.8;\" x=\"26.925\" xlink:href=\"#m21ecdff771\" y=\"130.039481\"/>\n      </g>\n     </g>\n     <g id=\"text_10\">\n      <!-- 8 -->\n      <g transform=\"translate(13.5625 133.838699)scale(0.1 -0.1)\">\n       <defs>\n        <path d=\"M 31.78125 34.625 \nQ 24.75 34.625 20.71875 30.859375 \nQ 16.703125 27.09375 16.703125 20.515625 \nQ 16.703125 13.921875 20.71875 10.15625 \nQ 24.75 6.390625 31.78125 6.390625 \nQ 38.8125 6.390625 42.859375 10.171875 \nQ 46.921875 13.96875 46.921875 20.515625 \nQ 46.921875 27.09375 42.890625 30.859375 \nQ 38.875 34.625 31.78125 34.625 \nz\nM 21.921875 38.8125 \nQ 15.578125 40.375 12.03125 44.71875 \nQ 8.5 49.078125 8.5 55.328125 \nQ 8.5 64.0625 14.71875 69.140625 \nQ 20.953125 74.21875 31.78125 74.21875 \nQ 42.671875 74.21875 48.875 69.140625 \nQ 55.078125 64.0625 55.078125 55.328125 \nQ 55.078125 49.078125 51.53125 44.71875 \nQ 48 40.375 41.703125 38.8125 \nQ 48.828125 37.15625 52.796875 32.3125 \nQ 56.78125 27.484375 56.78125 20.515625 \nQ 56.78125 9.90625 50.3125 4.234375 \nQ 43.84375 -1.421875 31.78125 -1.421875 \nQ 19.734375 -1.421875 13.25 4.234375 \nQ 6.78125 9.90625 6.78125 20.515625 \nQ 6.78125 27.484375 10.78125 32.3125 \nQ 14.796875 37.15625 21.921875 38.8125 \nz\nM 18.3125 54.390625 \nQ 18.3125 48.734375 21.84375 45.5625 \nQ 25.390625 42.390625 31.78125 42.390625 \nQ 38.140625 42.390625 41.71875 45.5625 \nQ 45.3125 48.734375 45.3125 54.390625 \nQ 45.3125 60.0625 41.71875 63.234375 \nQ 38.140625 66.40625 31.78125 66.40625 \nQ 25.390625 66.40625 21.84375 63.234375 \nQ 18.3125 60.0625 18.3125 54.390625 \nz\n\" id=\"DejaVuSans-56\"/>\n       </defs>\n       <use xlink:href=\"#DejaVuSans-56\"/>\n      </g>\n     </g>\n    </g>\n    <g id=\"ytick_5\">\n     <g id=\"line2d_11\">\n      <g>\n       <use style=\"stroke:#000000;stroke-width:0.8;\" x=\"26.925\" xlink:href=\"#m21ecdff771\" y=\"101.800519\"/>\n      </g>\n     </g>\n     <g id=\"text_11\">\n      <!-- 10 -->\n      <g transform=\"translate(7.2 105.599738)scale(0.1 -0.1)\">\n       <use xlink:href=\"#DejaVuSans-49\"/>\n       <use x=\"63.623047\" xlink:href=\"#DejaVuSans-48\"/>\n      </g>\n     </g>\n    </g>\n    <g id=\"ytick_6\">\n     <g id=\"line2d_12\">\n      <g>\n       <use style=\"stroke:#000000;stroke-width:0.8;\" x=\"26.925\" xlink:href=\"#m21ecdff771\" y=\"73.561558\"/>\n      </g>\n     </g>\n     <g id=\"text_12\">\n      <!-- 12 -->\n      <g transform=\"translate(7.2 77.360777)scale(0.1 -0.1)\">\n       <use xlink:href=\"#DejaVuSans-49\"/>\n       <use x=\"63.623047\" xlink:href=\"#DejaVuSans-50\"/>\n      </g>\n     </g>\n    </g>\n    <g id=\"ytick_7\">\n     <g id=\"line2d_13\">\n      <g>\n       <use style=\"stroke:#000000;stroke-width:0.8;\" x=\"26.925\" xlink:href=\"#m21ecdff771\" y=\"45.322597\"/>\n      </g>\n     </g>\n     <g id=\"text_13\">\n      <!-- 14 -->\n      <g transform=\"translate(7.2 49.121816)scale(0.1 -0.1)\">\n       <use xlink:href=\"#DejaVuSans-49\"/>\n       <use x=\"63.623047\" xlink:href=\"#DejaVuSans-52\"/>\n      </g>\n     </g>\n    </g>\n    <g id=\"ytick_8\">\n     <g id=\"line2d_14\">\n      <g>\n       <use style=\"stroke:#000000;stroke-width:0.8;\" x=\"26.925\" xlink:href=\"#m21ecdff771\" y=\"17.083636\"/>\n      </g>\n     </g>\n     <g id=\"text_14\">\n      <!-- 16 -->\n      <g transform=\"translate(7.2 20.882855)scale(0.1 -0.1)\">\n       <use xlink:href=\"#DejaVuSans-49\"/>\n       <use x=\"63.623047\" xlink:href=\"#DejaVuSans-54\"/>\n      </g>\n     </g>\n    </g>\n   </g>\n   <g id=\"line2d_15\">\n    <defs>\n     <path d=\"M 0 1.5 \nC 0.397805 1.5 0.77937 1.341951 1.06066 1.06066 \nC 1.341951 0.77937 1.5 0.397805 1.5 0 \nC 1.5 -0.397805 1.341951 -0.77937 1.06066 -1.06066 \nC 0.77937 -1.341951 0.397805 -1.5 0 -1.5 \nC -0.397805 -1.5 -0.77937 -1.341951 -1.06066 -1.06066 \nC -1.341951 -0.77937 -1.5 -0.397805 -1.5 0 \nC -1.5 0.397805 -1.341951 0.77937 -1.06066 1.06066 \nC -0.77937 1.341951 -0.397805 1.5 0 1.5 \nz\n\" id=\"m16b05cf386\" style=\"stroke:#1f77b4;\"/>\n    </defs>\n    <g clip-path=\"url(#pa1322dcc18)\">\n     <use style=\"fill:#1f77b4;stroke:#1f77b4;\" x=\"42.143182\" xlink:href=\"#m16b05cf386\" y=\"186.517403\"/>\n     <use style=\"fill:#1f77b4;stroke:#1f77b4;\" x=\"53.849476\" xlink:href=\"#m16b05cf386\" y=\"186.517403\"/>\n     <use style=\"fill:#1f77b4;stroke:#1f77b4;\" x=\"65.555769\" xlink:href=\"#m16b05cf386\" y=\"214.756364\"/>\n     <use style=\"fill:#1f77b4;stroke:#1f77b4;\" x=\"77.262063\" xlink:href=\"#m16b05cf386\" y=\"214.756364\"/>\n     <use style=\"fill:#1f77b4;stroke:#1f77b4;\" x=\"88.968357\" xlink:href=\"#m16b05cf386\" y=\"87.681039\"/>\n     <use style=\"fill:#1f77b4;stroke:#1f77b4;\" x=\"100.67465\" xlink:href=\"#m16b05cf386\" y=\"158.278442\"/>\n     <use style=\"fill:#1f77b4;stroke:#1f77b4;\" x=\"112.380944\" xlink:href=\"#m16b05cf386\" y=\"101.800519\"/>\n     <use style=\"fill:#1f77b4;stroke:#1f77b4;\" x=\"124.087238\" xlink:href=\"#m16b05cf386\" y=\"214.756364\"/>\n     <use style=\"fill:#1f77b4;stroke:#1f77b4;\" x=\"135.793531\" xlink:href=\"#m16b05cf386\" y=\"101.800519\"/>\n     <use style=\"fill:#1f77b4;stroke:#1f77b4;\" x=\"147.499825\" xlink:href=\"#m16b05cf386\" y=\"144.158961\"/>\n     <use style=\"fill:#1f77b4;stroke:#1f77b4;\" x=\"159.206119\" xlink:href=\"#m16b05cf386\" y=\"158.278442\"/>\n     <use style=\"fill:#1f77b4;stroke:#1f77b4;\" x=\"170.912413\" xlink:href=\"#m16b05cf386\" y=\"59.442078\"/>\n     <use style=\"fill:#1f77b4;stroke:#1f77b4;\" x=\"194.325\" xlink:href=\"#m16b05cf386\" y=\"59.442078\"/>\n     <use style=\"fill:#1f77b4;stroke:#1f77b4;\" x=\"217.737587\" xlink:href=\"#m16b05cf386\" y=\"59.442078\"/>\n     <use style=\"fill:#1f77b4;stroke:#1f77b4;\" x=\"241.150175\" xlink:href=\"#m16b05cf386\" y=\"59.442078\"/>\n     <use style=\"fill:#1f77b4;stroke:#1f77b4;\" x=\"252.856469\" xlink:href=\"#m16b05cf386\" y=\"59.442078\"/>\n     <use style=\"fill:#1f77b4;stroke:#1f77b4;\" x=\"264.562762\" xlink:href=\"#m16b05cf386\" y=\"17.083636\"/>\n     <use style=\"fill:#1f77b4;stroke:#1f77b4;\" x=\"276.269056\" xlink:href=\"#m16b05cf386\" y=\"59.442078\"/>\n     <use style=\"fill:#1f77b4;stroke:#1f77b4;\" x=\"287.97535\" xlink:href=\"#m16b05cf386\" y=\"59.442078\"/>\n     <use style=\"fill:#1f77b4;stroke:#1f77b4;\" x=\"299.681643\" xlink:href=\"#m16b05cf386\" y=\"130.039481\"/>\n     <use style=\"fill:#1f77b4;stroke:#1f77b4;\" x=\"311.387937\" xlink:href=\"#m16b05cf386\" y=\"200.636883\"/>\n     <use style=\"fill:#1f77b4;stroke:#1f77b4;\" x=\"323.094231\" xlink:href=\"#m16b05cf386\" y=\"59.442078\"/>\n     <use style=\"fill:#1f77b4;stroke:#1f77b4;\" x=\"334.800524\" xlink:href=\"#m16b05cf386\" y=\"200.636883\"/>\n     <use style=\"fill:#1f77b4;stroke:#1f77b4;\" x=\"346.506818\" xlink:href=\"#m16b05cf386\" y=\"115.92\"/>\n    </g>\n   </g>\n   <g id=\"patch_3\">\n    <path d=\"M 26.925 224.64 \nL 26.925 7.2 \n\" style=\"fill:none;stroke:#000000;stroke-linecap:square;stroke-linejoin:miter;stroke-width:0.8;\"/>\n   </g>\n   <g id=\"patch_4\">\n    <path d=\"M 361.725 224.64 \nL 361.725 7.2 \n\" style=\"fill:none;stroke:#000000;stroke-linecap:square;stroke-linejoin:miter;stroke-width:0.8;\"/>\n   </g>\n   <g id=\"patch_5\">\n    <path d=\"M 26.925 224.64 \nL 361.725 224.64 \n\" style=\"fill:none;stroke:#000000;stroke-linecap:square;stroke-linejoin:miter;stroke-width:0.8;\"/>\n   </g>\n   <g id=\"patch_6\">\n    <path d=\"M 26.925 7.2 \nL 361.725 7.2 \n\" style=\"fill:none;stroke:#000000;stroke-linecap:square;stroke-linejoin:miter;stroke-width:0.8;\"/>\n   </g>\n  </g>\n </g>\n <defs>\n  <clipPath id=\"pa1322dcc18\">\n   <rect height=\"217.44\" width=\"334.8\" x=\"26.925\" y=\"7.2\"/>\n  </clipPath>\n </defs>\n</svg>\n",
      "image/png": "[encoded data removed]"
     },
     "metadata": {
      "needs_background": "light"
     }
    }
   ],
   "source": [
    "clusterings_under_20 = [(index, cluster_amount) for index, cluster_amount in enumerate(sorted_clusters) if cluster_amount < 20 ]\n",
    "indexes_u20, cluster_amount_u20 = zip(*clusterings_under_20)\n",
    "\n",
    "plt.plot(indexes_u20, cluster_amount_u20,'.')\n",
    "plt.show()\n"
   ]
  },
  {
   "cell_type": "code",
   "execution_count": null,
   "metadata": {},
   "outputs": [],
   "source": []
  }
 ]
}